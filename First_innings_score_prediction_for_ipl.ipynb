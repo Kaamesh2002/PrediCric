{
  "metadata": {
    "kernelspec": {
      "language": "python",
      "display_name": "Python 3",
      "name": "python3"
    },
    "language_info": {
      "name": "python",
      "version": "3.7.10",
      "mimetype": "text/x-python",
      "codemirror_mode": {
        "name": "ipython",
        "version": 3
      },
      "pygments_lexer": "ipython3",
      "nbconvert_exporter": "python",
      "file_extension": ".py"
    },
    "colab": {
      "provenance": []
    }
  },
  "nbformat_minor": 0,
  "nbformat": 4,
  "cells": [
    {
      "cell_type": "markdown",
      "source": [
        "#  IPL First Innings Score Prediction"
      ],
      "metadata": {
        "_uuid": "8f2839f25d086af736a60e9eeb907d3b93b6e0e5",
        "_cell_guid": "b1076dfc-b9ad-4769-8c92-a6c4dae69d19",
        "id": "AwGHa5_4QsEp"
      }
    },
    {
      "cell_type": "code",
      "source": [
        "import os\n",
        "import numpy as np\n",
        "import pandas as pd\n",
        "from google.colab import drive\n",
        "from datetime import datetime\n",
        "from sklearn.preprocessing import LabelEncoder\n",
        "from sklearn.model_selection import train_test_split\n",
        "from sklearn.linear_model import LinearRegression\n",
        "from sklearn.tree import DecisionTreeRegressor\n",
        "from sklearn.ensemble import RandomForestRegressor\n",
        "from sklearn.ensemble import AdaBoostRegressor\n",
        "from sklearn.metrics import mean_absolute_error as mae, mean_squared_error as mse, accuracy_score\n",
        "import warnings\n",
        "warnings.filterwarnings('ignore')"
      ],
      "metadata": {
        "id": "-0NySPLrZkR0"
      },
      "execution_count": 1,
      "outputs": []
    },
    {
      "cell_type": "code",
      "source": [
        "drive.mount('/content/drive')"
      ],
      "metadata": {
        "colab": {
          "base_uri": "https://localhost:8080/"
        },
        "id": "UwIEUvm2RH6z",
        "outputId": "0e626875-ea8b-46f4-c3b8-02dce7b87a74"
      },
      "execution_count": 2,
      "outputs": [
        {
          "output_type": "stream",
          "name": "stdout",
          "text": [
            "Mounted at /content/drive\n"
          ]
        }
      ]
    },
    {
      "cell_type": "code",
      "source": [
        "# loading the dataset\n",
        "df = pd.read_csv('/content/drive/MyDrive/dataset/ipl.csv')\n"
      ],
      "metadata": {
        "execution": {
          "iopub.status.busy": "2021-08-04T14:09:54.851070Z",
          "iopub.execute_input": "2021-08-04T14:09:54.851672Z",
          "iopub.status.idle": "2021-08-04T14:09:55.031825Z",
          "shell.execute_reply.started": "2021-08-04T14:09:54.851516Z",
          "shell.execute_reply": "2021-08-04T14:09:55.030658Z"
        },
        "trusted": true,
        "id": "q3_oS_reQsEt"
      },
      "execution_count": 3,
      "outputs": []
    },
    {
      "cell_type": "code",
      "source": [
        "df.columns"
      ],
      "metadata": {
        "execution": {
          "iopub.status.busy": "2021-08-04T14:09:55.033752Z",
          "iopub.execute_input": "2021-08-04T14:09:55.034089Z",
          "iopub.status.idle": "2021-08-04T14:09:55.041010Z",
          "shell.execute_reply.started": "2021-08-04T14:09:55.034057Z",
          "shell.execute_reply": "2021-08-04T14:09:55.039780Z"
        },
        "trusted": true,
        "colab": {
          "base_uri": "https://localhost:8080/"
        },
        "id": "7Tep0UnpQsEt",
        "outputId": "677f7074-8603-412b-f98b-2f178997042d"
      },
      "execution_count": 4,
      "outputs": [
        {
          "output_type": "execute_result",
          "data": {
            "text/plain": [
              "Index(['mid', 'date', 'bat_team', 'bowl_team', 'batsman', 'bowler', 'runs',\n",
              "       'wickets', 'overs', 'runs_last_5', 'wickets_last_5', 'striker',\n",
              "       'non-striker', 'total'],\n",
              "      dtype='object')"
            ]
          },
          "metadata": {},
          "execution_count": 4
        }
      ]
    },
    {
      "cell_type": "code",
      "source": [
        "df.shape"
      ],
      "metadata": {
        "execution": {
          "iopub.status.busy": "2021-08-04T14:09:55.042950Z",
          "iopub.execute_input": "2021-08-04T14:09:55.043596Z",
          "iopub.status.idle": "2021-08-04T14:09:55.054824Z",
          "shell.execute_reply.started": "2021-08-04T14:09:55.043550Z",
          "shell.execute_reply": "2021-08-04T14:09:55.053754Z"
        },
        "trusted": true,
        "colab": {
          "base_uri": "https://localhost:8080/"
        },
        "id": "Beveu_OaQsEu",
        "outputId": "a1d56e06-a2d1-4916-cde9-cf0eb98c392d"
      },
      "execution_count": 5,
      "outputs": [
        {
          "output_type": "execute_result",
          "data": {
            "text/plain": [
              "(76014, 14)"
            ]
          },
          "metadata": {},
          "execution_count": 5
        }
      ]
    },
    {
      "cell_type": "code",
      "source": [
        "df.dtypes"
      ],
      "metadata": {
        "execution": {
          "iopub.status.busy": "2021-08-04T14:09:55.056424Z",
          "iopub.execute_input": "2021-08-04T14:09:55.056821Z",
          "iopub.status.idle": "2021-08-04T14:09:55.069311Z",
          "shell.execute_reply.started": "2021-08-04T14:09:55.056765Z",
          "shell.execute_reply": "2021-08-04T14:09:55.068339Z"
        },
        "trusted": true,
        "colab": {
          "base_uri": "https://localhost:8080/",
          "height": 523
        },
        "id": "btwFBmmwQsEu",
        "outputId": "3e664ab9-222e-4b94-c1f3-0e7f015831ce"
      },
      "execution_count": 6,
      "outputs": [
        {
          "output_type": "execute_result",
          "data": {
            "text/plain": [
              "mid                 int64\n",
              "date               object\n",
              "bat_team           object\n",
              "bowl_team          object\n",
              "batsman            object\n",
              "bowler             object\n",
              "runs                int64\n",
              "wickets             int64\n",
              "overs             float64\n",
              "runs_last_5         int64\n",
              "wickets_last_5      int64\n",
              "striker             int64\n",
              "non-striker         int64\n",
              "total               int64\n",
              "dtype: object"
            ],
            "text/html": [
              "<div>\n",
              "<style scoped>\n",
              "    .dataframe tbody tr th:only-of-type {\n",
              "        vertical-align: middle;\n",
              "    }\n",
              "\n",
              "    .dataframe tbody tr th {\n",
              "        vertical-align: top;\n",
              "    }\n",
              "\n",
              "    .dataframe thead th {\n",
              "        text-align: right;\n",
              "    }\n",
              "</style>\n",
              "<table border=\"1\" class=\"dataframe\">\n",
              "  <thead>\n",
              "    <tr style=\"text-align: right;\">\n",
              "      <th></th>\n",
              "      <th>0</th>\n",
              "    </tr>\n",
              "  </thead>\n",
              "  <tbody>\n",
              "    <tr>\n",
              "      <th>mid</th>\n",
              "      <td>int64</td>\n",
              "    </tr>\n",
              "    <tr>\n",
              "      <th>date</th>\n",
              "      <td>object</td>\n",
              "    </tr>\n",
              "    <tr>\n",
              "      <th>bat_team</th>\n",
              "      <td>object</td>\n",
              "    </tr>\n",
              "    <tr>\n",
              "      <th>bowl_team</th>\n",
              "      <td>object</td>\n",
              "    </tr>\n",
              "    <tr>\n",
              "      <th>batsman</th>\n",
              "      <td>object</td>\n",
              "    </tr>\n",
              "    <tr>\n",
              "      <th>bowler</th>\n",
              "      <td>object</td>\n",
              "    </tr>\n",
              "    <tr>\n",
              "      <th>runs</th>\n",
              "      <td>int64</td>\n",
              "    </tr>\n",
              "    <tr>\n",
              "      <th>wickets</th>\n",
              "      <td>int64</td>\n",
              "    </tr>\n",
              "    <tr>\n",
              "      <th>overs</th>\n",
              "      <td>float64</td>\n",
              "    </tr>\n",
              "    <tr>\n",
              "      <th>runs_last_5</th>\n",
              "      <td>int64</td>\n",
              "    </tr>\n",
              "    <tr>\n",
              "      <th>wickets_last_5</th>\n",
              "      <td>int64</td>\n",
              "    </tr>\n",
              "    <tr>\n",
              "      <th>striker</th>\n",
              "      <td>int64</td>\n",
              "    </tr>\n",
              "    <tr>\n",
              "      <th>non-striker</th>\n",
              "      <td>int64</td>\n",
              "    </tr>\n",
              "    <tr>\n",
              "      <th>total</th>\n",
              "      <td>int64</td>\n",
              "    </tr>\n",
              "  </tbody>\n",
              "</table>\n",
              "</div><br><label><b>dtype:</b> object</label>"
            ]
          },
          "metadata": {},
          "execution_count": 6
        }
      ]
    },
    {
      "cell_type": "code",
      "source": [
        "df.head(10)"
      ],
      "metadata": {
        "execution": {
          "iopub.status.busy": "2021-08-04T14:09:55.070861Z",
          "iopub.execute_input": "2021-08-04T14:09:55.071199Z",
          "iopub.status.idle": "2021-08-04T14:09:55.094219Z",
          "shell.execute_reply.started": "2021-08-04T14:09:55.071168Z",
          "shell.execute_reply": "2021-08-04T14:09:55.093050Z"
        },
        "trusted": true,
        "colab": {
          "base_uri": "https://localhost:8080/",
          "height": 553
        },
        "id": "EaG8o1ZwQsEv",
        "outputId": "fd272c0a-90b9-4b82-a8b2-5a397236f01c"
      },
      "execution_count": 7,
      "outputs": [
        {
          "output_type": "execute_result",
          "data": {
            "text/plain": [
              "   mid       date               bat_team                    bowl_team  \\\n",
              "0    1  4/18/2008  Kolkata Knight Riders  Royal Challengers Bangalore   \n",
              "1    1  4/18/2008  Kolkata Knight Riders  Royal Challengers Bangalore   \n",
              "2    1  4/18/2008  Kolkata Knight Riders  Royal Challengers Bangalore   \n",
              "3    1  4/18/2008  Kolkata Knight Riders  Royal Challengers Bangalore   \n",
              "4    1  4/18/2008  Kolkata Knight Riders  Royal Challengers Bangalore   \n",
              "5    1  4/18/2008  Kolkata Knight Riders  Royal Challengers Bangalore   \n",
              "6    1  4/18/2008  Kolkata Knight Riders  Royal Challengers Bangalore   \n",
              "7    1  4/18/2008  Kolkata Knight Riders  Royal Challengers Bangalore   \n",
              "8    1  4/18/2008  Kolkata Knight Riders  Royal Challengers Bangalore   \n",
              "9    1  4/18/2008  Kolkata Knight Riders  Royal Challengers Bangalore   \n",
              "\n",
              "       batsman   bowler  runs  wickets  overs  runs_last_5  wickets_last_5  \\\n",
              "0   SC Ganguly  P Kumar     1        0    0.1            1               0   \n",
              "1  BB McCullum  P Kumar     1        0    0.2            1               0   \n",
              "2  BB McCullum  P Kumar     2        0    0.2            2               0   \n",
              "3  BB McCullum  P Kumar     2        0    0.3            2               0   \n",
              "4  BB McCullum  P Kumar     2        0    0.4            2               0   \n",
              "5  BB McCullum  P Kumar     2        0    0.5            2               0   \n",
              "6  BB McCullum  P Kumar     3        0    0.6            3               0   \n",
              "7  BB McCullum   Z Khan     3        0    1.1            3               0   \n",
              "8  BB McCullum   Z Khan     7        0    1.2            7               0   \n",
              "9  BB McCullum   Z Khan    11        0    1.3           11               0   \n",
              "\n",
              "   striker  non-striker  total  \n",
              "0        0            0    222  \n",
              "1        0            0    222  \n",
              "2        0            0    222  \n",
              "3        0            0    222  \n",
              "4        0            0    222  \n",
              "5        0            0    222  \n",
              "6        0            0    222  \n",
              "7        0            0    222  \n",
              "8        4            0    222  \n",
              "9        8            0    222  "
            ],
            "text/html": [
              "\n",
              "  <div id=\"df-16a45059-8896-4da5-a740-c88343d026db\" class=\"colab-df-container\">\n",
              "    <div>\n",
              "<style scoped>\n",
              "    .dataframe tbody tr th:only-of-type {\n",
              "        vertical-align: middle;\n",
              "    }\n",
              "\n",
              "    .dataframe tbody tr th {\n",
              "        vertical-align: top;\n",
              "    }\n",
              "\n",
              "    .dataframe thead th {\n",
              "        text-align: right;\n",
              "    }\n",
              "</style>\n",
              "<table border=\"1\" class=\"dataframe\">\n",
              "  <thead>\n",
              "    <tr style=\"text-align: right;\">\n",
              "      <th></th>\n",
              "      <th>mid</th>\n",
              "      <th>date</th>\n",
              "      <th>bat_team</th>\n",
              "      <th>bowl_team</th>\n",
              "      <th>batsman</th>\n",
              "      <th>bowler</th>\n",
              "      <th>runs</th>\n",
              "      <th>wickets</th>\n",
              "      <th>overs</th>\n",
              "      <th>runs_last_5</th>\n",
              "      <th>wickets_last_5</th>\n",
              "      <th>striker</th>\n",
              "      <th>non-striker</th>\n",
              "      <th>total</th>\n",
              "    </tr>\n",
              "  </thead>\n",
              "  <tbody>\n",
              "    <tr>\n",
              "      <th>0</th>\n",
              "      <td>1</td>\n",
              "      <td>4/18/2008</td>\n",
              "      <td>Kolkata Knight Riders</td>\n",
              "      <td>Royal Challengers Bangalore</td>\n",
              "      <td>SC Ganguly</td>\n",
              "      <td>P Kumar</td>\n",
              "      <td>1</td>\n",
              "      <td>0</td>\n",
              "      <td>0.1</td>\n",
              "      <td>1</td>\n",
              "      <td>0</td>\n",
              "      <td>0</td>\n",
              "      <td>0</td>\n",
              "      <td>222</td>\n",
              "    </tr>\n",
              "    <tr>\n",
              "      <th>1</th>\n",
              "      <td>1</td>\n",
              "      <td>4/18/2008</td>\n",
              "      <td>Kolkata Knight Riders</td>\n",
              "      <td>Royal Challengers Bangalore</td>\n",
              "      <td>BB McCullum</td>\n",
              "      <td>P Kumar</td>\n",
              "      <td>1</td>\n",
              "      <td>0</td>\n",
              "      <td>0.2</td>\n",
              "      <td>1</td>\n",
              "      <td>0</td>\n",
              "      <td>0</td>\n",
              "      <td>0</td>\n",
              "      <td>222</td>\n",
              "    </tr>\n",
              "    <tr>\n",
              "      <th>2</th>\n",
              "      <td>1</td>\n",
              "      <td>4/18/2008</td>\n",
              "      <td>Kolkata Knight Riders</td>\n",
              "      <td>Royal Challengers Bangalore</td>\n",
              "      <td>BB McCullum</td>\n",
              "      <td>P Kumar</td>\n",
              "      <td>2</td>\n",
              "      <td>0</td>\n",
              "      <td>0.2</td>\n",
              "      <td>2</td>\n",
              "      <td>0</td>\n",
              "      <td>0</td>\n",
              "      <td>0</td>\n",
              "      <td>222</td>\n",
              "    </tr>\n",
              "    <tr>\n",
              "      <th>3</th>\n",
              "      <td>1</td>\n",
              "      <td>4/18/2008</td>\n",
              "      <td>Kolkata Knight Riders</td>\n",
              "      <td>Royal Challengers Bangalore</td>\n",
              "      <td>BB McCullum</td>\n",
              "      <td>P Kumar</td>\n",
              "      <td>2</td>\n",
              "      <td>0</td>\n",
              "      <td>0.3</td>\n",
              "      <td>2</td>\n",
              "      <td>0</td>\n",
              "      <td>0</td>\n",
              "      <td>0</td>\n",
              "      <td>222</td>\n",
              "    </tr>\n",
              "    <tr>\n",
              "      <th>4</th>\n",
              "      <td>1</td>\n",
              "      <td>4/18/2008</td>\n",
              "      <td>Kolkata Knight Riders</td>\n",
              "      <td>Royal Challengers Bangalore</td>\n",
              "      <td>BB McCullum</td>\n",
              "      <td>P Kumar</td>\n",
              "      <td>2</td>\n",
              "      <td>0</td>\n",
              "      <td>0.4</td>\n",
              "      <td>2</td>\n",
              "      <td>0</td>\n",
              "      <td>0</td>\n",
              "      <td>0</td>\n",
              "      <td>222</td>\n",
              "    </tr>\n",
              "    <tr>\n",
              "      <th>5</th>\n",
              "      <td>1</td>\n",
              "      <td>4/18/2008</td>\n",
              "      <td>Kolkata Knight Riders</td>\n",
              "      <td>Royal Challengers Bangalore</td>\n",
              "      <td>BB McCullum</td>\n",
              "      <td>P Kumar</td>\n",
              "      <td>2</td>\n",
              "      <td>0</td>\n",
              "      <td>0.5</td>\n",
              "      <td>2</td>\n",
              "      <td>0</td>\n",
              "      <td>0</td>\n",
              "      <td>0</td>\n",
              "      <td>222</td>\n",
              "    </tr>\n",
              "    <tr>\n",
              "      <th>6</th>\n",
              "      <td>1</td>\n",
              "      <td>4/18/2008</td>\n",
              "      <td>Kolkata Knight Riders</td>\n",
              "      <td>Royal Challengers Bangalore</td>\n",
              "      <td>BB McCullum</td>\n",
              "      <td>P Kumar</td>\n",
              "      <td>3</td>\n",
              "      <td>0</td>\n",
              "      <td>0.6</td>\n",
              "      <td>3</td>\n",
              "      <td>0</td>\n",
              "      <td>0</td>\n",
              "      <td>0</td>\n",
              "      <td>222</td>\n",
              "    </tr>\n",
              "    <tr>\n",
              "      <th>7</th>\n",
              "      <td>1</td>\n",
              "      <td>4/18/2008</td>\n",
              "      <td>Kolkata Knight Riders</td>\n",
              "      <td>Royal Challengers Bangalore</td>\n",
              "      <td>BB McCullum</td>\n",
              "      <td>Z Khan</td>\n",
              "      <td>3</td>\n",
              "      <td>0</td>\n",
              "      <td>1.1</td>\n",
              "      <td>3</td>\n",
              "      <td>0</td>\n",
              "      <td>0</td>\n",
              "      <td>0</td>\n",
              "      <td>222</td>\n",
              "    </tr>\n",
              "    <tr>\n",
              "      <th>8</th>\n",
              "      <td>1</td>\n",
              "      <td>4/18/2008</td>\n",
              "      <td>Kolkata Knight Riders</td>\n",
              "      <td>Royal Challengers Bangalore</td>\n",
              "      <td>BB McCullum</td>\n",
              "      <td>Z Khan</td>\n",
              "      <td>7</td>\n",
              "      <td>0</td>\n",
              "      <td>1.2</td>\n",
              "      <td>7</td>\n",
              "      <td>0</td>\n",
              "      <td>4</td>\n",
              "      <td>0</td>\n",
              "      <td>222</td>\n",
              "    </tr>\n",
              "    <tr>\n",
              "      <th>9</th>\n",
              "      <td>1</td>\n",
              "      <td>4/18/2008</td>\n",
              "      <td>Kolkata Knight Riders</td>\n",
              "      <td>Royal Challengers Bangalore</td>\n",
              "      <td>BB McCullum</td>\n",
              "      <td>Z Khan</td>\n",
              "      <td>11</td>\n",
              "      <td>0</td>\n",
              "      <td>1.3</td>\n",
              "      <td>11</td>\n",
              "      <td>0</td>\n",
              "      <td>8</td>\n",
              "      <td>0</td>\n",
              "      <td>222</td>\n",
              "    </tr>\n",
              "  </tbody>\n",
              "</table>\n",
              "</div>\n",
              "    <div class=\"colab-df-buttons\">\n",
              "\n",
              "  <div class=\"colab-df-container\">\n",
              "    <button class=\"colab-df-convert\" onclick=\"convertToInteractive('df-16a45059-8896-4da5-a740-c88343d026db')\"\n",
              "            title=\"Convert this dataframe to an interactive table.\"\n",
              "            style=\"display:none;\">\n",
              "\n",
              "  <svg xmlns=\"http://www.w3.org/2000/svg\" height=\"24px\" viewBox=\"0 -960 960 960\">\n",
              "    <path d=\"M120-120v-720h720v720H120Zm60-500h600v-160H180v160Zm220 220h160v-160H400v160Zm0 220h160v-160H400v160ZM180-400h160v-160H180v160Zm440 0h160v-160H620v160ZM180-180h160v-160H180v160Zm440 0h160v-160H620v160Z\"/>\n",
              "  </svg>\n",
              "    </button>\n",
              "\n",
              "  <style>\n",
              "    .colab-df-container {\n",
              "      display:flex;\n",
              "      gap: 12px;\n",
              "    }\n",
              "\n",
              "    .colab-df-convert {\n",
              "      background-color: #E8F0FE;\n",
              "      border: none;\n",
              "      border-radius: 50%;\n",
              "      cursor: pointer;\n",
              "      display: none;\n",
              "      fill: #1967D2;\n",
              "      height: 32px;\n",
              "      padding: 0 0 0 0;\n",
              "      width: 32px;\n",
              "    }\n",
              "\n",
              "    .colab-df-convert:hover {\n",
              "      background-color: #E2EBFA;\n",
              "      box-shadow: 0px 1px 2px rgba(60, 64, 67, 0.3), 0px 1px 3px 1px rgba(60, 64, 67, 0.15);\n",
              "      fill: #174EA6;\n",
              "    }\n",
              "\n",
              "    .colab-df-buttons div {\n",
              "      margin-bottom: 4px;\n",
              "    }\n",
              "\n",
              "    [theme=dark] .colab-df-convert {\n",
              "      background-color: #3B4455;\n",
              "      fill: #D2E3FC;\n",
              "    }\n",
              "\n",
              "    [theme=dark] .colab-df-convert:hover {\n",
              "      background-color: #434B5C;\n",
              "      box-shadow: 0px 1px 3px 1px rgba(0, 0, 0, 0.15);\n",
              "      filter: drop-shadow(0px 1px 2px rgba(0, 0, 0, 0.3));\n",
              "      fill: #FFFFFF;\n",
              "    }\n",
              "  </style>\n",
              "\n",
              "    <script>\n",
              "      const buttonEl =\n",
              "        document.querySelector('#df-16a45059-8896-4da5-a740-c88343d026db button.colab-df-convert');\n",
              "      buttonEl.style.display =\n",
              "        google.colab.kernel.accessAllowed ? 'block' : 'none';\n",
              "\n",
              "      async function convertToInteractive(key) {\n",
              "        const element = document.querySelector('#df-16a45059-8896-4da5-a740-c88343d026db');\n",
              "        const dataTable =\n",
              "          await google.colab.kernel.invokeFunction('convertToInteractive',\n",
              "                                                    [key], {});\n",
              "        if (!dataTable) return;\n",
              "\n",
              "        const docLinkHtml = 'Like what you see? Visit the ' +\n",
              "          '<a target=\"_blank\" href=https://colab.research.google.com/notebooks/data_table.ipynb>data table notebook</a>'\n",
              "          + ' to learn more about interactive tables.';\n",
              "        element.innerHTML = '';\n",
              "        dataTable['output_type'] = 'display_data';\n",
              "        await google.colab.output.renderOutput(dataTable, element);\n",
              "        const docLink = document.createElement('div');\n",
              "        docLink.innerHTML = docLinkHtml;\n",
              "        element.appendChild(docLink);\n",
              "      }\n",
              "    </script>\n",
              "  </div>\n",
              "\n",
              "\n",
              "<div id=\"df-89eb4faa-bf42-4e48-9280-0bd9deeffe0f\">\n",
              "  <button class=\"colab-df-quickchart\" onclick=\"quickchart('df-89eb4faa-bf42-4e48-9280-0bd9deeffe0f')\"\n",
              "            title=\"Suggest charts\"\n",
              "            style=\"display:none;\">\n",
              "\n",
              "<svg xmlns=\"http://www.w3.org/2000/svg\" height=\"24px\"viewBox=\"0 0 24 24\"\n",
              "     width=\"24px\">\n",
              "    <g>\n",
              "        <path d=\"M19 3H5c-1.1 0-2 .9-2 2v14c0 1.1.9 2 2 2h14c1.1 0 2-.9 2-2V5c0-1.1-.9-2-2-2zM9 17H7v-7h2v7zm4 0h-2V7h2v10zm4 0h-2v-4h2v4z\"/>\n",
              "    </g>\n",
              "</svg>\n",
              "  </button>\n",
              "\n",
              "<style>\n",
              "  .colab-df-quickchart {\n",
              "      --bg-color: #E8F0FE;\n",
              "      --fill-color: #1967D2;\n",
              "      --hover-bg-color: #E2EBFA;\n",
              "      --hover-fill-color: #174EA6;\n",
              "      --disabled-fill-color: #AAA;\n",
              "      --disabled-bg-color: #DDD;\n",
              "  }\n",
              "\n",
              "  [theme=dark] .colab-df-quickchart {\n",
              "      --bg-color: #3B4455;\n",
              "      --fill-color: #D2E3FC;\n",
              "      --hover-bg-color: #434B5C;\n",
              "      --hover-fill-color: #FFFFFF;\n",
              "      --disabled-bg-color: #3B4455;\n",
              "      --disabled-fill-color: #666;\n",
              "  }\n",
              "\n",
              "  .colab-df-quickchart {\n",
              "    background-color: var(--bg-color);\n",
              "    border: none;\n",
              "    border-radius: 50%;\n",
              "    cursor: pointer;\n",
              "    display: none;\n",
              "    fill: var(--fill-color);\n",
              "    height: 32px;\n",
              "    padding: 0;\n",
              "    width: 32px;\n",
              "  }\n",
              "\n",
              "  .colab-df-quickchart:hover {\n",
              "    background-color: var(--hover-bg-color);\n",
              "    box-shadow: 0 1px 2px rgba(60, 64, 67, 0.3), 0 1px 3px 1px rgba(60, 64, 67, 0.15);\n",
              "    fill: var(--button-hover-fill-color);\n",
              "  }\n",
              "\n",
              "  .colab-df-quickchart-complete:disabled,\n",
              "  .colab-df-quickchart-complete:disabled:hover {\n",
              "    background-color: var(--disabled-bg-color);\n",
              "    fill: var(--disabled-fill-color);\n",
              "    box-shadow: none;\n",
              "  }\n",
              "\n",
              "  .colab-df-spinner {\n",
              "    border: 2px solid var(--fill-color);\n",
              "    border-color: transparent;\n",
              "    border-bottom-color: var(--fill-color);\n",
              "    animation:\n",
              "      spin 1s steps(1) infinite;\n",
              "  }\n",
              "\n",
              "  @keyframes spin {\n",
              "    0% {\n",
              "      border-color: transparent;\n",
              "      border-bottom-color: var(--fill-color);\n",
              "      border-left-color: var(--fill-color);\n",
              "    }\n",
              "    20% {\n",
              "      border-color: transparent;\n",
              "      border-left-color: var(--fill-color);\n",
              "      border-top-color: var(--fill-color);\n",
              "    }\n",
              "    30% {\n",
              "      border-color: transparent;\n",
              "      border-left-color: var(--fill-color);\n",
              "      border-top-color: var(--fill-color);\n",
              "      border-right-color: var(--fill-color);\n",
              "    }\n",
              "    40% {\n",
              "      border-color: transparent;\n",
              "      border-right-color: var(--fill-color);\n",
              "      border-top-color: var(--fill-color);\n",
              "    }\n",
              "    60% {\n",
              "      border-color: transparent;\n",
              "      border-right-color: var(--fill-color);\n",
              "    }\n",
              "    80% {\n",
              "      border-color: transparent;\n",
              "      border-right-color: var(--fill-color);\n",
              "      border-bottom-color: var(--fill-color);\n",
              "    }\n",
              "    90% {\n",
              "      border-color: transparent;\n",
              "      border-bottom-color: var(--fill-color);\n",
              "    }\n",
              "  }\n",
              "</style>\n",
              "\n",
              "  <script>\n",
              "    async function quickchart(key) {\n",
              "      const quickchartButtonEl =\n",
              "        document.querySelector('#' + key + ' button');\n",
              "      quickchartButtonEl.disabled = true;  // To prevent multiple clicks.\n",
              "      quickchartButtonEl.classList.add('colab-df-spinner');\n",
              "      try {\n",
              "        const charts = await google.colab.kernel.invokeFunction(\n",
              "            'suggestCharts', [key], {});\n",
              "      } catch (error) {\n",
              "        console.error('Error during call to suggestCharts:', error);\n",
              "      }\n",
              "      quickchartButtonEl.classList.remove('colab-df-spinner');\n",
              "      quickchartButtonEl.classList.add('colab-df-quickchart-complete');\n",
              "    }\n",
              "    (() => {\n",
              "      let quickchartButtonEl =\n",
              "        document.querySelector('#df-89eb4faa-bf42-4e48-9280-0bd9deeffe0f button');\n",
              "      quickchartButtonEl.style.display =\n",
              "        google.colab.kernel.accessAllowed ? 'block' : 'none';\n",
              "    })();\n",
              "  </script>\n",
              "</div>\n",
              "\n",
              "    </div>\n",
              "  </div>\n"
            ],
            "application/vnd.google.colaboratory.intrinsic+json": {
              "type": "dataframe",
              "variable_name": "df",
              "summary": "{\n  \"name\": \"df\",\n  \"rows\": 76014,\n  \"fields\": [\n    {\n      \"column\": \"mid\",\n      \"properties\": {\n        \"dtype\": \"number\",\n        \"std\": 178,\n        \"min\": 1,\n        \"max\": 617,\n        \"num_unique_values\": 617,\n        \"samples\": [\n          50,\n          582,\n          83\n        ],\n        \"semantic_type\": \"\",\n        \"description\": \"\"\n      }\n    },\n    {\n      \"column\": \"date\",\n      \"properties\": {\n        \"dtype\": \"object\",\n        \"num_unique_values\": 442,\n        \"samples\": [\n          \"5/2/2014\",\n          \"5/15/2012\",\n          \"5/18/2009\"\n        ],\n        \"semantic_type\": \"\",\n        \"description\": \"\"\n      }\n    },\n    {\n      \"column\": \"bat_team\",\n      \"properties\": {\n        \"dtype\": \"category\",\n        \"num_unique_values\": 14,\n        \"samples\": [\n          \"Pune Warriors\",\n          \"Rising Pune Supergiants\",\n          \"Kolkata Knight Riders\"\n        ],\n        \"semantic_type\": \"\",\n        \"description\": \"\"\n      }\n    },\n    {\n      \"column\": \"bowl_team\",\n      \"properties\": {\n        \"dtype\": \"category\",\n        \"num_unique_values\": 14,\n        \"samples\": [\n          \"Kochi Tuskers Kerala\",\n          \"Rising Pune Supergiants\",\n          \"Royal Challengers Bangalore\"\n        ],\n        \"semantic_type\": \"\",\n        \"description\": \"\"\n      }\n    },\n    {\n      \"column\": \"batsman\",\n      \"properties\": {\n        \"dtype\": \"category\",\n        \"num_unique_values\": 411,\n        \"samples\": [\n          \"A Nehra\",\n          \"A Symonds\",\n          \"DJ Bravo\"\n        ],\n        \"semantic_type\": \"\",\n        \"description\": \"\"\n      }\n    },\n    {\n      \"column\": \"bowler\",\n      \"properties\": {\n        \"dtype\": \"category\",\n        \"num_unique_values\": 329,\n        \"samples\": [\n          \"IK Pathan\",\n          \"AB McDonald\",\n          \"JM Kemp\"\n        ],\n        \"semantic_type\": \"\",\n        \"description\": \"\"\n      }\n    },\n    {\n      \"column\": \"runs\",\n      \"properties\": {\n        \"dtype\": \"number\",\n        \"std\": 48,\n        \"min\": 0,\n        \"max\": 263,\n        \"num_unique_values\": 252,\n        \"samples\": [\n          106,\n          21,\n          97\n        ],\n        \"semantic_type\": \"\",\n        \"description\": \"\"\n      }\n    },\n    {\n      \"column\": \"wickets\",\n      \"properties\": {\n        \"dtype\": \"number\",\n        \"std\": 2,\n        \"min\": 0,\n        \"max\": 10,\n        \"num_unique_values\": 11,\n        \"samples\": [\n          5,\n          0,\n          9\n        ],\n        \"semantic_type\": \"\",\n        \"description\": \"\"\n      }\n    },\n    {\n      \"column\": \"overs\",\n      \"properties\": {\n        \"dtype\": \"number\",\n        \"std\": 5.772586873852113,\n        \"min\": 0.0,\n        \"max\": 19.6,\n        \"num_unique_values\": 140,\n        \"samples\": [\n          17.6,\n          11.1,\n          5.1\n        ],\n        \"semantic_type\": \"\",\n        \"description\": \"\"\n      }\n    },\n    {\n      \"column\": \"runs_last_5\",\n      \"properties\": {\n        \"dtype\": \"number\",\n        \"std\": 14,\n        \"min\": 0,\n        \"max\": 113,\n        \"num_unique_values\": 102,\n        \"samples\": [\n          37,\n          18,\n          74\n        ],\n        \"semantic_type\": \"\",\n        \"description\": \"\"\n      }\n    },\n    {\n      \"column\": \"wickets_last_5\",\n      \"properties\": {\n        \"dtype\": \"number\",\n        \"std\": 1,\n        \"min\": 0,\n        \"max\": 7,\n        \"num_unique_values\": 8,\n        \"samples\": [\n          1,\n          5,\n          0\n        ],\n        \"semantic_type\": \"\",\n        \"description\": \"\"\n      }\n    },\n    {\n      \"column\": \"striker\",\n      \"properties\": {\n        \"dtype\": \"number\",\n        \"std\": 20,\n        \"min\": 0,\n        \"max\": 175,\n        \"num_unique_values\": 155,\n        \"samples\": [\n          95,\n          160,\n          80\n        ],\n        \"semantic_type\": \"\",\n        \"description\": \"\"\n      }\n    },\n    {\n      \"column\": \"non-striker\",\n      \"properties\": {\n        \"dtype\": \"number\",\n        \"std\": 10,\n        \"min\": 0,\n        \"max\": 109,\n        \"num_unique_values\": 88,\n        \"samples\": [\n          69,\n          0,\n          18\n        ],\n        \"semantic_type\": \"\",\n        \"description\": \"\"\n      }\n    },\n    {\n      \"column\": \"total\",\n      \"properties\": {\n        \"dtype\": \"number\",\n        \"std\": 29,\n        \"min\": 67,\n        \"max\": 263,\n        \"num_unique_values\": 138,\n        \"samples\": [\n          132,\n          115,\n          154\n        ],\n        \"semantic_type\": \"\",\n        \"description\": \"\"\n      }\n    }\n  ]\n}"
            }
          },
          "metadata": {},
          "execution_count": 7
        }
      ]
    },
    {
      "cell_type": "code",
      "source": [
        "count = {}\n",
        "\n",
        "for column in df.columns:\n",
        "    count[column] = len(df[column].unique())\n",
        "\n",
        "for column, values in count.items():\n",
        "    print(f\"Count of '{column}': {values}\")\n"
      ],
      "metadata": {
        "colab": {
          "base_uri": "https://localhost:8080/"
        },
        "id": "RrqPaJxo_sLR",
        "outputId": "bbd92fe9-cf1e-4c44-c1c2-18a1a87431b1"
      },
      "execution_count": 8,
      "outputs": [
        {
          "output_type": "stream",
          "name": "stdout",
          "text": [
            "Count of 'mid': 617\n",
            "Count of 'date': 442\n",
            "Count of 'bat_team': 14\n",
            "Count of 'bowl_team': 14\n",
            "Count of 'batsman': 411\n",
            "Count of 'bowler': 329\n",
            "Count of 'runs': 252\n",
            "Count of 'wickets': 11\n",
            "Count of 'overs': 140\n",
            "Count of 'runs_last_5': 102\n",
            "Count of 'wickets_last_5': 8\n",
            "Count of 'striker': 155\n",
            "Count of 'non-striker': 88\n",
            "Count of 'total': 138\n"
          ]
        }
      ]
    },
    {
      "cell_type": "code",
      "source": [
        "# unique_values = {}\n",
        "\n",
        "# for column in df.columns:\n",
        "#     unique_values[column] = df[column].unique()\n",
        "\n",
        "# for column, values in unique_values.items():\n",
        "#     print(f\"Unique values in '{column}': {values}\")"
      ],
      "metadata": {
        "collapsed": true,
        "id": "x3wRa1ZvxEyi"
      },
      "execution_count": 9,
      "outputs": []
    },
    {
      "cell_type": "markdown",
      "source": [
        "# **Data Cleaning**\n",
        " Points covered under this section: </br>\n",
        " • Removing unwanted columns</br>\n",
        " • Keeping only consistent teams</br>\n",
        " • Removing the first 5 overs data in every match</br>\n",
        " • Converting the column 'date' from string into datetime object</br>"
      ],
      "metadata": {
        "execution": {
          "iopub.status.busy": "2021-08-03T16:30:54.266632Z",
          "iopub.execute_input": "2021-08-03T16:30:54.267091Z",
          "iopub.status.idle": "2021-08-03T16:30:54.272094Z",
          "shell.execute_reply.started": "2021-08-03T16:30:54.267053Z",
          "shell.execute_reply": "2021-08-03T16:30:54.270602Z"
        },
        "id": "g04bxbcPQsEv"
      }
    },
    {
      "cell_type": "code",
      "source": [
        "df.columns"
      ],
      "metadata": {
        "execution": {
          "iopub.status.busy": "2021-08-04T14:09:55.097394Z",
          "iopub.execute_input": "2021-08-04T14:09:55.098101Z",
          "iopub.status.idle": "2021-08-04T14:09:55.107956Z",
          "shell.execute_reply.started": "2021-08-04T14:09:55.098053Z",
          "shell.execute_reply": "2021-08-04T14:09:55.106939Z"
        },
        "trusted": true,
        "colab": {
          "base_uri": "https://localhost:8080/"
        },
        "id": "8KtLMIcQQsEv",
        "outputId": "ada4ecc7-33a7-4466-c5e1-08d6fb653f22"
      },
      "execution_count": 10,
      "outputs": [
        {
          "output_type": "execute_result",
          "data": {
            "text/plain": [
              "Index(['mid', 'date', 'bat_team', 'bowl_team', 'batsman', 'bowler', 'runs',\n",
              "       'wickets', 'overs', 'runs_last_5', 'wickets_last_5', 'striker',\n",
              "       'non-striker', 'total'],\n",
              "      dtype='object')"
            ]
          },
          "metadata": {},
          "execution_count": 10
        }
      ]
    },
    {
      "cell_type": "code",
      "source": [
        "# Removing unwanted columns\n",
        "columns_to_remove = ['mid', 'batsman', 'bowler', 'striker', 'non-striker']\n",
        "# columns_to_remove = ['mid','venue', 'batsman', 'bowler', 'striker', 'non-striker']\n",
        "\n",
        "print('Before removing unwanted columns: {}'.format(df.shape))\n",
        "df.drop(labels=columns_to_remove, axis=1, inplace=True)\n",
        "print('After removing unwanted columns: {}'.format(df.shape))"
      ],
      "metadata": {
        "execution": {
          "iopub.status.busy": "2021-08-04T14:09:55.110262Z",
          "iopub.execute_input": "2021-08-04T14:09:55.110913Z",
          "iopub.status.idle": "2021-08-04T14:09:55.124664Z",
          "shell.execute_reply.started": "2021-08-04T14:09:55.110844Z",
          "shell.execute_reply": "2021-08-04T14:09:55.123455Z"
        },
        "trusted": true,
        "colab": {
          "base_uri": "https://localhost:8080/"
        },
        "id": "DEG2Xj9VQsEw",
        "outputId": "09148745-c6de-4f8c-9200-0e63150f05e3"
      },
      "execution_count": 11,
      "outputs": [
        {
          "output_type": "stream",
          "name": "stdout",
          "text": [
            "Before removing unwanted columns: (76014, 14)\n",
            "After removing unwanted columns: (76014, 9)\n"
          ]
        }
      ]
    },
    {
      "cell_type": "code",
      "source": [
        "df.columns"
      ],
      "metadata": {
        "execution": {
          "iopub.status.busy": "2021-08-04T14:09:55.126429Z",
          "iopub.execute_input": "2021-08-04T14:09:55.127151Z",
          "iopub.status.idle": "2021-08-04T14:09:55.135779Z",
          "shell.execute_reply.started": "2021-08-04T14:09:55.127103Z",
          "shell.execute_reply": "2021-08-04T14:09:55.134727Z"
        },
        "trusted": true,
        "id": "NCCfsu5WQsEw",
        "outputId": "8bd3ed1d-4c66-407d-aa0b-51d36ca41809",
        "colab": {
          "base_uri": "https://localhost:8080/"
        }
      },
      "execution_count": 12,
      "outputs": [
        {
          "output_type": "execute_result",
          "data": {
            "text/plain": [
              "Index(['date', 'bat_team', 'bowl_team', 'runs', 'wickets', 'overs',\n",
              "       'runs_last_5', 'wickets_last_5', 'total'],\n",
              "      dtype='object')"
            ]
          },
          "metadata": {},
          "execution_count": 12
        }
      ]
    },
    {
      "cell_type": "code",
      "source": [
        "df.head()"
      ],
      "metadata": {
        "execution": {
          "iopub.status.busy": "2021-08-04T14:09:55.136939Z",
          "iopub.execute_input": "2021-08-04T14:09:55.137494Z",
          "iopub.status.idle": "2021-08-04T14:09:55.157852Z",
          "shell.execute_reply.started": "2021-08-04T14:09:55.137451Z",
          "shell.execute_reply": "2021-08-04T14:09:55.156830Z"
        },
        "trusted": true,
        "colab": {
          "base_uri": "https://localhost:8080/",
          "height": 206
        },
        "id": "f_jp50BJQsEw",
        "outputId": "812a234f-503f-4b84-d255-d3a294158c04"
      },
      "execution_count": 13,
      "outputs": [
        {
          "output_type": "execute_result",
          "data": {
            "text/plain": [
              "        date               bat_team                    bowl_team  runs  \\\n",
              "0  4/18/2008  Kolkata Knight Riders  Royal Challengers Bangalore     1   \n",
              "1  4/18/2008  Kolkata Knight Riders  Royal Challengers Bangalore     1   \n",
              "2  4/18/2008  Kolkata Knight Riders  Royal Challengers Bangalore     2   \n",
              "3  4/18/2008  Kolkata Knight Riders  Royal Challengers Bangalore     2   \n",
              "4  4/18/2008  Kolkata Knight Riders  Royal Challengers Bangalore     2   \n",
              "\n",
              "   wickets  overs  runs_last_5  wickets_last_5  total  \n",
              "0        0    0.1            1               0    222  \n",
              "1        0    0.2            1               0    222  \n",
              "2        0    0.2            2               0    222  \n",
              "3        0    0.3            2               0    222  \n",
              "4        0    0.4            2               0    222  "
            ],
            "text/html": [
              "\n",
              "  <div id=\"df-9d490edd-513f-44bd-81cd-bba305148c40\" class=\"colab-df-container\">\n",
              "    <div>\n",
              "<style scoped>\n",
              "    .dataframe tbody tr th:only-of-type {\n",
              "        vertical-align: middle;\n",
              "    }\n",
              "\n",
              "    .dataframe tbody tr th {\n",
              "        vertical-align: top;\n",
              "    }\n",
              "\n",
              "    .dataframe thead th {\n",
              "        text-align: right;\n",
              "    }\n",
              "</style>\n",
              "<table border=\"1\" class=\"dataframe\">\n",
              "  <thead>\n",
              "    <tr style=\"text-align: right;\">\n",
              "      <th></th>\n",
              "      <th>date</th>\n",
              "      <th>bat_team</th>\n",
              "      <th>bowl_team</th>\n",
              "      <th>runs</th>\n",
              "      <th>wickets</th>\n",
              "      <th>overs</th>\n",
              "      <th>runs_last_5</th>\n",
              "      <th>wickets_last_5</th>\n",
              "      <th>total</th>\n",
              "    </tr>\n",
              "  </thead>\n",
              "  <tbody>\n",
              "    <tr>\n",
              "      <th>0</th>\n",
              "      <td>4/18/2008</td>\n",
              "      <td>Kolkata Knight Riders</td>\n",
              "      <td>Royal Challengers Bangalore</td>\n",
              "      <td>1</td>\n",
              "      <td>0</td>\n",
              "      <td>0.1</td>\n",
              "      <td>1</td>\n",
              "      <td>0</td>\n",
              "      <td>222</td>\n",
              "    </tr>\n",
              "    <tr>\n",
              "      <th>1</th>\n",
              "      <td>4/18/2008</td>\n",
              "      <td>Kolkata Knight Riders</td>\n",
              "      <td>Royal Challengers Bangalore</td>\n",
              "      <td>1</td>\n",
              "      <td>0</td>\n",
              "      <td>0.2</td>\n",
              "      <td>1</td>\n",
              "      <td>0</td>\n",
              "      <td>222</td>\n",
              "    </tr>\n",
              "    <tr>\n",
              "      <th>2</th>\n",
              "      <td>4/18/2008</td>\n",
              "      <td>Kolkata Knight Riders</td>\n",
              "      <td>Royal Challengers Bangalore</td>\n",
              "      <td>2</td>\n",
              "      <td>0</td>\n",
              "      <td>0.2</td>\n",
              "      <td>2</td>\n",
              "      <td>0</td>\n",
              "      <td>222</td>\n",
              "    </tr>\n",
              "    <tr>\n",
              "      <th>3</th>\n",
              "      <td>4/18/2008</td>\n",
              "      <td>Kolkata Knight Riders</td>\n",
              "      <td>Royal Challengers Bangalore</td>\n",
              "      <td>2</td>\n",
              "      <td>0</td>\n",
              "      <td>0.3</td>\n",
              "      <td>2</td>\n",
              "      <td>0</td>\n",
              "      <td>222</td>\n",
              "    </tr>\n",
              "    <tr>\n",
              "      <th>4</th>\n",
              "      <td>4/18/2008</td>\n",
              "      <td>Kolkata Knight Riders</td>\n",
              "      <td>Royal Challengers Bangalore</td>\n",
              "      <td>2</td>\n",
              "      <td>0</td>\n",
              "      <td>0.4</td>\n",
              "      <td>2</td>\n",
              "      <td>0</td>\n",
              "      <td>222</td>\n",
              "    </tr>\n",
              "  </tbody>\n",
              "</table>\n",
              "</div>\n",
              "    <div class=\"colab-df-buttons\">\n",
              "\n",
              "  <div class=\"colab-df-container\">\n",
              "    <button class=\"colab-df-convert\" onclick=\"convertToInteractive('df-9d490edd-513f-44bd-81cd-bba305148c40')\"\n",
              "            title=\"Convert this dataframe to an interactive table.\"\n",
              "            style=\"display:none;\">\n",
              "\n",
              "  <svg xmlns=\"http://www.w3.org/2000/svg\" height=\"24px\" viewBox=\"0 -960 960 960\">\n",
              "    <path d=\"M120-120v-720h720v720H120Zm60-500h600v-160H180v160Zm220 220h160v-160H400v160Zm0 220h160v-160H400v160ZM180-400h160v-160H180v160Zm440 0h160v-160H620v160ZM180-180h160v-160H180v160Zm440 0h160v-160H620v160Z\"/>\n",
              "  </svg>\n",
              "    </button>\n",
              "\n",
              "  <style>\n",
              "    .colab-df-container {\n",
              "      display:flex;\n",
              "      gap: 12px;\n",
              "    }\n",
              "\n",
              "    .colab-df-convert {\n",
              "      background-color: #E8F0FE;\n",
              "      border: none;\n",
              "      border-radius: 50%;\n",
              "      cursor: pointer;\n",
              "      display: none;\n",
              "      fill: #1967D2;\n",
              "      height: 32px;\n",
              "      padding: 0 0 0 0;\n",
              "      width: 32px;\n",
              "    }\n",
              "\n",
              "    .colab-df-convert:hover {\n",
              "      background-color: #E2EBFA;\n",
              "      box-shadow: 0px 1px 2px rgba(60, 64, 67, 0.3), 0px 1px 3px 1px rgba(60, 64, 67, 0.15);\n",
              "      fill: #174EA6;\n",
              "    }\n",
              "\n",
              "    .colab-df-buttons div {\n",
              "      margin-bottom: 4px;\n",
              "    }\n",
              "\n",
              "    [theme=dark] .colab-df-convert {\n",
              "      background-color: #3B4455;\n",
              "      fill: #D2E3FC;\n",
              "    }\n",
              "\n",
              "    [theme=dark] .colab-df-convert:hover {\n",
              "      background-color: #434B5C;\n",
              "      box-shadow: 0px 1px 3px 1px rgba(0, 0, 0, 0.15);\n",
              "      filter: drop-shadow(0px 1px 2px rgba(0, 0, 0, 0.3));\n",
              "      fill: #FFFFFF;\n",
              "    }\n",
              "  </style>\n",
              "\n",
              "    <script>\n",
              "      const buttonEl =\n",
              "        document.querySelector('#df-9d490edd-513f-44bd-81cd-bba305148c40 button.colab-df-convert');\n",
              "      buttonEl.style.display =\n",
              "        google.colab.kernel.accessAllowed ? 'block' : 'none';\n",
              "\n",
              "      async function convertToInteractive(key) {\n",
              "        const element = document.querySelector('#df-9d490edd-513f-44bd-81cd-bba305148c40');\n",
              "        const dataTable =\n",
              "          await google.colab.kernel.invokeFunction('convertToInteractive',\n",
              "                                                    [key], {});\n",
              "        if (!dataTable) return;\n",
              "\n",
              "        const docLinkHtml = 'Like what you see? Visit the ' +\n",
              "          '<a target=\"_blank\" href=https://colab.research.google.com/notebooks/data_table.ipynb>data table notebook</a>'\n",
              "          + ' to learn more about interactive tables.';\n",
              "        element.innerHTML = '';\n",
              "        dataTable['output_type'] = 'display_data';\n",
              "        await google.colab.output.renderOutput(dataTable, element);\n",
              "        const docLink = document.createElement('div');\n",
              "        docLink.innerHTML = docLinkHtml;\n",
              "        element.appendChild(docLink);\n",
              "      }\n",
              "    </script>\n",
              "  </div>\n",
              "\n",
              "\n",
              "<div id=\"df-10543f18-b794-4dbe-bada-1fc5bfbf4e5e\">\n",
              "  <button class=\"colab-df-quickchart\" onclick=\"quickchart('df-10543f18-b794-4dbe-bada-1fc5bfbf4e5e')\"\n",
              "            title=\"Suggest charts\"\n",
              "            style=\"display:none;\">\n",
              "\n",
              "<svg xmlns=\"http://www.w3.org/2000/svg\" height=\"24px\"viewBox=\"0 0 24 24\"\n",
              "     width=\"24px\">\n",
              "    <g>\n",
              "        <path d=\"M19 3H5c-1.1 0-2 .9-2 2v14c0 1.1.9 2 2 2h14c1.1 0 2-.9 2-2V5c0-1.1-.9-2-2-2zM9 17H7v-7h2v7zm4 0h-2V7h2v10zm4 0h-2v-4h2v4z\"/>\n",
              "    </g>\n",
              "</svg>\n",
              "  </button>\n",
              "\n",
              "<style>\n",
              "  .colab-df-quickchart {\n",
              "      --bg-color: #E8F0FE;\n",
              "      --fill-color: #1967D2;\n",
              "      --hover-bg-color: #E2EBFA;\n",
              "      --hover-fill-color: #174EA6;\n",
              "      --disabled-fill-color: #AAA;\n",
              "      --disabled-bg-color: #DDD;\n",
              "  }\n",
              "\n",
              "  [theme=dark] .colab-df-quickchart {\n",
              "      --bg-color: #3B4455;\n",
              "      --fill-color: #D2E3FC;\n",
              "      --hover-bg-color: #434B5C;\n",
              "      --hover-fill-color: #FFFFFF;\n",
              "      --disabled-bg-color: #3B4455;\n",
              "      --disabled-fill-color: #666;\n",
              "  }\n",
              "\n",
              "  .colab-df-quickchart {\n",
              "    background-color: var(--bg-color);\n",
              "    border: none;\n",
              "    border-radius: 50%;\n",
              "    cursor: pointer;\n",
              "    display: none;\n",
              "    fill: var(--fill-color);\n",
              "    height: 32px;\n",
              "    padding: 0;\n",
              "    width: 32px;\n",
              "  }\n",
              "\n",
              "  .colab-df-quickchart:hover {\n",
              "    background-color: var(--hover-bg-color);\n",
              "    box-shadow: 0 1px 2px rgba(60, 64, 67, 0.3), 0 1px 3px 1px rgba(60, 64, 67, 0.15);\n",
              "    fill: var(--button-hover-fill-color);\n",
              "  }\n",
              "\n",
              "  .colab-df-quickchart-complete:disabled,\n",
              "  .colab-df-quickchart-complete:disabled:hover {\n",
              "    background-color: var(--disabled-bg-color);\n",
              "    fill: var(--disabled-fill-color);\n",
              "    box-shadow: none;\n",
              "  }\n",
              "\n",
              "  .colab-df-spinner {\n",
              "    border: 2px solid var(--fill-color);\n",
              "    border-color: transparent;\n",
              "    border-bottom-color: var(--fill-color);\n",
              "    animation:\n",
              "      spin 1s steps(1) infinite;\n",
              "  }\n",
              "\n",
              "  @keyframes spin {\n",
              "    0% {\n",
              "      border-color: transparent;\n",
              "      border-bottom-color: var(--fill-color);\n",
              "      border-left-color: var(--fill-color);\n",
              "    }\n",
              "    20% {\n",
              "      border-color: transparent;\n",
              "      border-left-color: var(--fill-color);\n",
              "      border-top-color: var(--fill-color);\n",
              "    }\n",
              "    30% {\n",
              "      border-color: transparent;\n",
              "      border-left-color: var(--fill-color);\n",
              "      border-top-color: var(--fill-color);\n",
              "      border-right-color: var(--fill-color);\n",
              "    }\n",
              "    40% {\n",
              "      border-color: transparent;\n",
              "      border-right-color: var(--fill-color);\n",
              "      border-top-color: var(--fill-color);\n",
              "    }\n",
              "    60% {\n",
              "      border-color: transparent;\n",
              "      border-right-color: var(--fill-color);\n",
              "    }\n",
              "    80% {\n",
              "      border-color: transparent;\n",
              "      border-right-color: var(--fill-color);\n",
              "      border-bottom-color: var(--fill-color);\n",
              "    }\n",
              "    90% {\n",
              "      border-color: transparent;\n",
              "      border-bottom-color: var(--fill-color);\n",
              "    }\n",
              "  }\n",
              "</style>\n",
              "\n",
              "  <script>\n",
              "    async function quickchart(key) {\n",
              "      const quickchartButtonEl =\n",
              "        document.querySelector('#' + key + ' button');\n",
              "      quickchartButtonEl.disabled = true;  // To prevent multiple clicks.\n",
              "      quickchartButtonEl.classList.add('colab-df-spinner');\n",
              "      try {\n",
              "        const charts = await google.colab.kernel.invokeFunction(\n",
              "            'suggestCharts', [key], {});\n",
              "      } catch (error) {\n",
              "        console.error('Error during call to suggestCharts:', error);\n",
              "      }\n",
              "      quickchartButtonEl.classList.remove('colab-df-spinner');\n",
              "      quickchartButtonEl.classList.add('colab-df-quickchart-complete');\n",
              "    }\n",
              "    (() => {\n",
              "      let quickchartButtonEl =\n",
              "        document.querySelector('#df-10543f18-b794-4dbe-bada-1fc5bfbf4e5e button');\n",
              "      quickchartButtonEl.style.display =\n",
              "        google.colab.kernel.accessAllowed ? 'block' : 'none';\n",
              "    })();\n",
              "  </script>\n",
              "</div>\n",
              "\n",
              "    </div>\n",
              "  </div>\n"
            ],
            "application/vnd.google.colaboratory.intrinsic+json": {
              "type": "dataframe",
              "variable_name": "df",
              "summary": "{\n  \"name\": \"df\",\n  \"rows\": 76014,\n  \"fields\": [\n    {\n      \"column\": \"date\",\n      \"properties\": {\n        \"dtype\": \"object\",\n        \"num_unique_values\": 442,\n        \"samples\": [\n          \"5/2/2014\",\n          \"5/15/2012\",\n          \"5/18/2009\"\n        ],\n        \"semantic_type\": \"\",\n        \"description\": \"\"\n      }\n    },\n    {\n      \"column\": \"bat_team\",\n      \"properties\": {\n        \"dtype\": \"category\",\n        \"num_unique_values\": 14,\n        \"samples\": [\n          \"Pune Warriors\",\n          \"Rising Pune Supergiants\",\n          \"Kolkata Knight Riders\"\n        ],\n        \"semantic_type\": \"\",\n        \"description\": \"\"\n      }\n    },\n    {\n      \"column\": \"bowl_team\",\n      \"properties\": {\n        \"dtype\": \"category\",\n        \"num_unique_values\": 14,\n        \"samples\": [\n          \"Kochi Tuskers Kerala\",\n          \"Rising Pune Supergiants\",\n          \"Royal Challengers Bangalore\"\n        ],\n        \"semantic_type\": \"\",\n        \"description\": \"\"\n      }\n    },\n    {\n      \"column\": \"runs\",\n      \"properties\": {\n        \"dtype\": \"number\",\n        \"std\": 48,\n        \"min\": 0,\n        \"max\": 263,\n        \"num_unique_values\": 252,\n        \"samples\": [\n          106,\n          21,\n          97\n        ],\n        \"semantic_type\": \"\",\n        \"description\": \"\"\n      }\n    },\n    {\n      \"column\": \"wickets\",\n      \"properties\": {\n        \"dtype\": \"number\",\n        \"std\": 2,\n        \"min\": 0,\n        \"max\": 10,\n        \"num_unique_values\": 11,\n        \"samples\": [\n          5,\n          0,\n          9\n        ],\n        \"semantic_type\": \"\",\n        \"description\": \"\"\n      }\n    },\n    {\n      \"column\": \"overs\",\n      \"properties\": {\n        \"dtype\": \"number\",\n        \"std\": 5.772586873852113,\n        \"min\": 0.0,\n        \"max\": 19.6,\n        \"num_unique_values\": 140,\n        \"samples\": [\n          17.6,\n          11.1,\n          5.1\n        ],\n        \"semantic_type\": \"\",\n        \"description\": \"\"\n      }\n    },\n    {\n      \"column\": \"runs_last_5\",\n      \"properties\": {\n        \"dtype\": \"number\",\n        \"std\": 14,\n        \"min\": 0,\n        \"max\": 113,\n        \"num_unique_values\": 102,\n        \"samples\": [\n          37,\n          18,\n          74\n        ],\n        \"semantic_type\": \"\",\n        \"description\": \"\"\n      }\n    },\n    {\n      \"column\": \"wickets_last_5\",\n      \"properties\": {\n        \"dtype\": \"number\",\n        \"std\": 1,\n        \"min\": 0,\n        \"max\": 7,\n        \"num_unique_values\": 8,\n        \"samples\": [\n          1,\n          5,\n          0\n        ],\n        \"semantic_type\": \"\",\n        \"description\": \"\"\n      }\n    },\n    {\n      \"column\": \"total\",\n      \"properties\": {\n        \"dtype\": \"number\",\n        \"std\": 29,\n        \"min\": 67,\n        \"max\": 263,\n        \"num_unique_values\": 138,\n        \"samples\": [\n          132,\n          115,\n          154\n        ],\n        \"semantic_type\": \"\",\n        \"description\": \"\"\n      }\n    }\n  ]\n}"
            }
          },
          "metadata": {},
          "execution_count": 13
        }
      ]
    },
    {
      "cell_type": "code",
      "source": [
        "df['bat_team'].unique()"
      ],
      "metadata": {
        "execution": {
          "iopub.status.busy": "2021-08-04T14:09:55.159508Z",
          "iopub.execute_input": "2021-08-04T14:09:55.160184Z",
          "iopub.status.idle": "2021-08-04T14:09:55.178256Z",
          "shell.execute_reply.started": "2021-08-04T14:09:55.160137Z",
          "shell.execute_reply": "2021-08-04T14:09:55.176932Z"
        },
        "trusted": true,
        "colab": {
          "base_uri": "https://localhost:8080/"
        },
        "id": "LysM3bovQsEx",
        "outputId": "3568c3d3-d410-42b7-8996-38f6137eb1c0"
      },
      "execution_count": 14,
      "outputs": [
        {
          "output_type": "execute_result",
          "data": {
            "text/plain": [
              "array(['Kolkata Knight Riders', 'Chennai Super Kings', 'Rajasthan Royals',\n",
              "       'Mumbai Indians', 'Deccan Chargers', 'Kings XI Punjab',\n",
              "       'Royal Challengers Bangalore', 'Delhi Daredevils',\n",
              "       'Kochi Tuskers Kerala', 'Pune Warriors', 'Sunrisers Hyderabad',\n",
              "       'Rising Pune Supergiants', 'Gujarat Lions',\n",
              "       'Rising Pune Supergiant'], dtype=object)"
            ]
          },
          "metadata": {},
          "execution_count": 14
        }
      ]
    },
    {
      "cell_type": "code",
      "source": [
        "consistent_teams = ['Kolkata Knight Riders', 'Chennai Super Kings', 'Rajasthan Royals',\n",
        "                    'Mumbai Indians', 'Kings XI Punjab', 'Royal Challengers Bangalore',\n",
        "                    'Delhi Daredevils', 'Sunrisers Hyderabad']"
      ],
      "metadata": {
        "execution": {
          "iopub.status.busy": "2021-08-04T14:09:55.179879Z",
          "iopub.execute_input": "2021-08-04T14:09:55.180387Z",
          "iopub.status.idle": "2021-08-04T14:09:55.185664Z",
          "shell.execute_reply.started": "2021-08-04T14:09:55.180339Z",
          "shell.execute_reply": "2021-08-04T14:09:55.184343Z"
        },
        "trusted": true,
        "id": "9_ENhftZQsEx"
      },
      "execution_count": 15,
      "outputs": []
    },
    {
      "cell_type": "code",
      "source": [
        "# Keeping only consistent teams\n",
        "print('Before removing inconsistent teams: {}'.format(df.shape))\n",
        "df = df[(df['bat_team'].isin(consistent_teams)) & (df['bowl_team'].isin(consistent_teams))]\n",
        "print('After removing inconsistent teams: {}'.format(df.shape))"
      ],
      "metadata": {
        "execution": {
          "iopub.status.busy": "2021-08-04T14:09:55.187406Z",
          "iopub.execute_input": "2021-08-04T14:09:55.187861Z",
          "iopub.status.idle": "2021-08-04T14:09:55.214413Z",
          "shell.execute_reply.started": "2021-08-04T14:09:55.187816Z",
          "shell.execute_reply": "2021-08-04T14:09:55.212999Z"
        },
        "trusted": true,
        "colab": {
          "base_uri": "https://localhost:8080/"
        },
        "id": "fOlIM9JsQsEx",
        "outputId": "1bf2710d-382f-48c6-caff-8504fe5cdbb2"
      },
      "execution_count": 16,
      "outputs": [
        {
          "output_type": "stream",
          "name": "stdout",
          "text": [
            "Before removing inconsistent teams: (76014, 9)\n",
            "After removing inconsistent teams: (53811, 9)\n"
          ]
        }
      ]
    },
    {
      "cell_type": "code",
      "source": [
        "df['bat_team'].unique()"
      ],
      "metadata": {
        "colab": {
          "base_uri": "https://localhost:8080/"
        },
        "id": "XZkuGuwwMdkS",
        "outputId": "9334a0eb-1bdd-447f-a27b-5ac797a6f177"
      },
      "execution_count": 17,
      "outputs": [
        {
          "output_type": "execute_result",
          "data": {
            "text/plain": [
              "array(['Kolkata Knight Riders', 'Chennai Super Kings', 'Rajasthan Royals',\n",
              "       'Mumbai Indians', 'Kings XI Punjab', 'Royal Challengers Bangalore',\n",
              "       'Delhi Daredevils', 'Sunrisers Hyderabad'], dtype=object)"
            ]
          },
          "metadata": {},
          "execution_count": 17
        }
      ]
    },
    {
      "cell_type": "code",
      "source": [
        "# Removing the first 5 overs data in every match\n",
        "print('Before removing first 5 overs data: {}'.format(df.shape))\n",
        "df = df[df['overs']>=5.0]\n",
        "print('After removing first 5 overs data: {}'.format(df.shape))"
      ],
      "metadata": {
        "execution": {
          "iopub.status.busy": "2021-08-04T14:09:55.229490Z",
          "iopub.execute_input": "2021-08-04T14:09:55.229782Z",
          "iopub.status.idle": "2021-08-04T14:09:55.241685Z",
          "shell.execute_reply.started": "2021-08-04T14:09:55.229753Z",
          "shell.execute_reply": "2021-08-04T14:09:55.240479Z"
        },
        "trusted": true,
        "colab": {
          "base_uri": "https://localhost:8080/"
        },
        "id": "3Q5kDRRHQsEx",
        "outputId": "3fa85f43-6cff-4908-ed40-756aee534914"
      },
      "execution_count": 18,
      "outputs": [
        {
          "output_type": "stream",
          "name": "stdout",
          "text": [
            "Before removing first 5 overs data: (53811, 9)\n",
            "After removing first 5 overs data: (40108, 9)\n"
          ]
        }
      ]
    },
    {
      "cell_type": "code",
      "source": [
        "df['date'].head()"
      ],
      "metadata": {
        "colab": {
          "base_uri": "https://localhost:8080/",
          "height": 241
        },
        "id": "PdCvihM2QT4v",
        "outputId": "6c9e4962-8b65-4ca5-f0b8-eaf4f93e00ad"
      },
      "execution_count": 19,
      "outputs": [
        {
          "output_type": "execute_result",
          "data": {
            "text/plain": [
              "32    4/18/2008\n",
              "33    4/18/2008\n",
              "34    4/18/2008\n",
              "35    4/18/2008\n",
              "36    4/18/2008\n",
              "Name: date, dtype: object"
            ],
            "text/html": [
              "<div>\n",
              "<style scoped>\n",
              "    .dataframe tbody tr th:only-of-type {\n",
              "        vertical-align: middle;\n",
              "    }\n",
              "\n",
              "    .dataframe tbody tr th {\n",
              "        vertical-align: top;\n",
              "    }\n",
              "\n",
              "    .dataframe thead th {\n",
              "        text-align: right;\n",
              "    }\n",
              "</style>\n",
              "<table border=\"1\" class=\"dataframe\">\n",
              "  <thead>\n",
              "    <tr style=\"text-align: right;\">\n",
              "      <th></th>\n",
              "      <th>date</th>\n",
              "    </tr>\n",
              "  </thead>\n",
              "  <tbody>\n",
              "    <tr>\n",
              "      <th>32</th>\n",
              "      <td>4/18/2008</td>\n",
              "    </tr>\n",
              "    <tr>\n",
              "      <th>33</th>\n",
              "      <td>4/18/2008</td>\n",
              "    </tr>\n",
              "    <tr>\n",
              "      <th>34</th>\n",
              "      <td>4/18/2008</td>\n",
              "    </tr>\n",
              "    <tr>\n",
              "      <th>35</th>\n",
              "      <td>4/18/2008</td>\n",
              "    </tr>\n",
              "    <tr>\n",
              "      <th>36</th>\n",
              "      <td>4/18/2008</td>\n",
              "    </tr>\n",
              "  </tbody>\n",
              "</table>\n",
              "</div><br><label><b>dtype:</b> object</label>"
            ]
          },
          "metadata": {},
          "execution_count": 19
        }
      ]
    },
    {
      "cell_type": "code",
      "source": [
        "# Converting the column 'date' from string into datetime object\n",
        "print(\"Before converting 'date' column from string to datetime object: {}\".format(type(df.iloc[0,0])))\n",
        "df['date'] = df['date'].apply(lambda x: datetime.strptime(x, '%m/%d/%Y'))\n",
        "print(\"After converting 'date' column from string to datetime object: {}\".format(type(df.iloc[0,0])))"
      ],
      "metadata": {
        "execution": {
          "iopub.status.busy": "2021-08-04T14:09:55.243021Z",
          "iopub.execute_input": "2021-08-04T14:09:55.243323Z",
          "iopub.status.idle": "2021-08-04T14:09:55.757636Z",
          "shell.execute_reply.started": "2021-08-04T14:09:55.243292Z",
          "shell.execute_reply": "2021-08-04T14:09:55.756577Z"
        },
        "trusted": true,
        "colab": {
          "base_uri": "https://localhost:8080/"
        },
        "id": "G_wP91-wQsEy",
        "outputId": "ab8e5072-a7bb-4744-cef9-6bd6cb6a951d"
      },
      "execution_count": 20,
      "outputs": [
        {
          "output_type": "stream",
          "name": "stdout",
          "text": [
            "Before converting 'date' column from string to datetime object: <class 'str'>\n",
            "After converting 'date' column from string to datetime object: <class 'pandas._libs.tslibs.timestamps.Timestamp'>\n"
          ]
        }
      ]
    },
    {
      "cell_type": "code",
      "source": [
        "df['date'].head()"
      ],
      "metadata": {
        "colab": {
          "base_uri": "https://localhost:8080/",
          "height": 241
        },
        "id": "dfsVbaMuQZnY",
        "outputId": "01c41e22-9cdd-4f2e-e6ec-c7fba04c3271"
      },
      "execution_count": 21,
      "outputs": [
        {
          "output_type": "execute_result",
          "data": {
            "text/plain": [
              "32   2008-04-18\n",
              "33   2008-04-18\n",
              "34   2008-04-18\n",
              "35   2008-04-18\n",
              "36   2008-04-18\n",
              "Name: date, dtype: datetime64[ns]"
            ],
            "text/html": [
              "<div>\n",
              "<style scoped>\n",
              "    .dataframe tbody tr th:only-of-type {\n",
              "        vertical-align: middle;\n",
              "    }\n",
              "\n",
              "    .dataframe tbody tr th {\n",
              "        vertical-align: top;\n",
              "    }\n",
              "\n",
              "    .dataframe thead th {\n",
              "        text-align: right;\n",
              "    }\n",
              "</style>\n",
              "<table border=\"1\" class=\"dataframe\">\n",
              "  <thead>\n",
              "    <tr style=\"text-align: right;\">\n",
              "      <th></th>\n",
              "      <th>date</th>\n",
              "    </tr>\n",
              "  </thead>\n",
              "  <tbody>\n",
              "    <tr>\n",
              "      <th>32</th>\n",
              "      <td>2008-04-18</td>\n",
              "    </tr>\n",
              "    <tr>\n",
              "      <th>33</th>\n",
              "      <td>2008-04-18</td>\n",
              "    </tr>\n",
              "    <tr>\n",
              "      <th>34</th>\n",
              "      <td>2008-04-18</td>\n",
              "    </tr>\n",
              "    <tr>\n",
              "      <th>35</th>\n",
              "      <td>2008-04-18</td>\n",
              "    </tr>\n",
              "    <tr>\n",
              "      <th>36</th>\n",
              "      <td>2008-04-18</td>\n",
              "    </tr>\n",
              "  </tbody>\n",
              "</table>\n",
              "</div><br><label><b>dtype:</b> datetime64[ns]</label>"
            ]
          },
          "metadata": {},
          "execution_count": 21
        }
      ]
    },
    {
      "cell_type": "markdown",
      "source": [
        "# Data Preprocessing\n",
        "• Handling categorical features </br>\n",
        "• Splitting dataset into train and test set on the basis of date"
      ],
      "metadata": {
        "execution": {
          "iopub.status.busy": "2021-08-03T16:34:53.748045Z",
          "iopub.execute_input": "2021-08-03T16:34:53.748515Z",
          "iopub.status.idle": "2021-08-03T16:34:53.75417Z",
          "shell.execute_reply.started": "2021-08-03T16:34:53.748457Z",
          "shell.execute_reply": "2021-08-03T16:34:53.752622Z"
        },
        "id": "-GH5N7cBQsEy"
      }
    },
    {
      "cell_type": "code",
      "source": [
        "df.dtypes"
      ],
      "metadata": {
        "colab": {
          "base_uri": "https://localhost:8080/",
          "height": 366
        },
        "id": "0BTlsOnMDEXI",
        "outputId": "acc068cb-8c0f-4c74-a10e-b4960d37718c"
      },
      "execution_count": 22,
      "outputs": [
        {
          "output_type": "execute_result",
          "data": {
            "text/plain": [
              "date              datetime64[ns]\n",
              "bat_team                  object\n",
              "bowl_team                 object\n",
              "runs                       int64\n",
              "wickets                    int64\n",
              "overs                    float64\n",
              "runs_last_5                int64\n",
              "wickets_last_5             int64\n",
              "total                      int64\n",
              "dtype: object"
            ],
            "text/html": [
              "<div>\n",
              "<style scoped>\n",
              "    .dataframe tbody tr th:only-of-type {\n",
              "        vertical-align: middle;\n",
              "    }\n",
              "\n",
              "    .dataframe tbody tr th {\n",
              "        vertical-align: top;\n",
              "    }\n",
              "\n",
              "    .dataframe thead th {\n",
              "        text-align: right;\n",
              "    }\n",
              "</style>\n",
              "<table border=\"1\" class=\"dataframe\">\n",
              "  <thead>\n",
              "    <tr style=\"text-align: right;\">\n",
              "      <th></th>\n",
              "      <th>0</th>\n",
              "    </tr>\n",
              "  </thead>\n",
              "  <tbody>\n",
              "    <tr>\n",
              "      <th>date</th>\n",
              "      <td>datetime64[ns]</td>\n",
              "    </tr>\n",
              "    <tr>\n",
              "      <th>bat_team</th>\n",
              "      <td>object</td>\n",
              "    </tr>\n",
              "    <tr>\n",
              "      <th>bowl_team</th>\n",
              "      <td>object</td>\n",
              "    </tr>\n",
              "    <tr>\n",
              "      <th>runs</th>\n",
              "      <td>int64</td>\n",
              "    </tr>\n",
              "    <tr>\n",
              "      <th>wickets</th>\n",
              "      <td>int64</td>\n",
              "    </tr>\n",
              "    <tr>\n",
              "      <th>overs</th>\n",
              "      <td>float64</td>\n",
              "    </tr>\n",
              "    <tr>\n",
              "      <th>runs_last_5</th>\n",
              "      <td>int64</td>\n",
              "    </tr>\n",
              "    <tr>\n",
              "      <th>wickets_last_5</th>\n",
              "      <td>int64</td>\n",
              "    </tr>\n",
              "    <tr>\n",
              "      <th>total</th>\n",
              "      <td>int64</td>\n",
              "    </tr>\n",
              "  </tbody>\n",
              "</table>\n",
              "</div><br><label><b>dtype:</b> object</label>"
            ]
          },
          "metadata": {},
          "execution_count": 22
        }
      ]
    },
    {
      "cell_type": "code",
      "source": [
        "#Converting categorical features using OneHotEncoding method\n",
        "encoded_df = pd.get_dummies(data=df, columns=['bat_team', 'bowl_team'])\n",
        "encoded_df.columns"
      ],
      "metadata": {
        "execution": {
          "iopub.status.busy": "2021-08-04T14:09:56.392124Z",
          "iopub.execute_input": "2021-08-04T14:09:56.392427Z",
          "iopub.status.idle": "2021-08-04T14:09:56.413992Z",
          "shell.execute_reply.started": "2021-08-04T14:09:56.392397Z",
          "shell.execute_reply": "2021-08-04T14:09:56.412762Z"
        },
        "trusted": true,
        "colab": {
          "base_uri": "https://localhost:8080/"
        },
        "id": "X8GHUEufQsEy",
        "outputId": "90602c7c-f1be-416d-843d-d9fb2c451401"
      },
      "execution_count": 23,
      "outputs": [
        {
          "output_type": "execute_result",
          "data": {
            "text/plain": [
              "Index(['date', 'runs', 'wickets', 'overs', 'runs_last_5', 'wickets_last_5',\n",
              "       'total', 'bat_team_Chennai Super Kings', 'bat_team_Delhi Daredevils',\n",
              "       'bat_team_Kings XI Punjab', 'bat_team_Kolkata Knight Riders',\n",
              "       'bat_team_Mumbai Indians', 'bat_team_Rajasthan Royals',\n",
              "       'bat_team_Royal Challengers Bangalore', 'bat_team_Sunrisers Hyderabad',\n",
              "       'bowl_team_Chennai Super Kings', 'bowl_team_Delhi Daredevils',\n",
              "       'bowl_team_Kings XI Punjab', 'bowl_team_Kolkata Knight Riders',\n",
              "       'bowl_team_Mumbai Indians', 'bowl_team_Rajasthan Royals',\n",
              "       'bowl_team_Royal Challengers Bangalore',\n",
              "       'bowl_team_Sunrisers Hyderabad'],\n",
              "      dtype='object')"
            ]
          },
          "metadata": {},
          "execution_count": 23
        }
      ]
    },
    {
      "cell_type": "code",
      "source": [
        "print(encoded_df.shape)\n",
        "encoded_df.head()"
      ],
      "metadata": {
        "execution": {
          "iopub.status.busy": "2021-08-04T14:09:56.418722Z",
          "iopub.execute_input": "2021-08-04T14:09:56.419032Z",
          "iopub.status.idle": "2021-08-04T14:09:56.447187Z",
          "shell.execute_reply.started": "2021-08-04T14:09:56.419001Z",
          "shell.execute_reply": "2021-08-04T14:09:56.446058Z"
        },
        "trusted": true,
        "colab": {
          "base_uri": "https://localhost:8080/",
          "height": 394
        },
        "id": "vFQ7TZmkQsEy",
        "outputId": "a96af1c3-78e8-4f4e-9188-d35af44e2661"
      },
      "execution_count": 24,
      "outputs": [
        {
          "output_type": "stream",
          "name": "stdout",
          "text": [
            "(40108, 23)\n"
          ]
        },
        {
          "output_type": "execute_result",
          "data": {
            "text/plain": [
              "         date  runs  wickets  overs  runs_last_5  wickets_last_5  total  \\\n",
              "32 2008-04-18    61        0    5.1           59               0    222   \n",
              "33 2008-04-18    61        1    5.2           59               1    222   \n",
              "34 2008-04-18    61        1    5.3           59               1    222   \n",
              "35 2008-04-18    61        1    5.4           59               1    222   \n",
              "36 2008-04-18    61        1    5.5           58               1    222   \n",
              "\n",
              "    bat_team_Chennai Super Kings  bat_team_Delhi Daredevils  \\\n",
              "32                         False                      False   \n",
              "33                         False                      False   \n",
              "34                         False                      False   \n",
              "35                         False                      False   \n",
              "36                         False                      False   \n",
              "\n",
              "    bat_team_Kings XI Punjab  ...  bat_team_Royal Challengers Bangalore  \\\n",
              "32                     False  ...                                 False   \n",
              "33                     False  ...                                 False   \n",
              "34                     False  ...                                 False   \n",
              "35                     False  ...                                 False   \n",
              "36                     False  ...                                 False   \n",
              "\n",
              "    bat_team_Sunrisers Hyderabad  bowl_team_Chennai Super Kings  \\\n",
              "32                         False                          False   \n",
              "33                         False                          False   \n",
              "34                         False                          False   \n",
              "35                         False                          False   \n",
              "36                         False                          False   \n",
              "\n",
              "    bowl_team_Delhi Daredevils  bowl_team_Kings XI Punjab  \\\n",
              "32                       False                      False   \n",
              "33                       False                      False   \n",
              "34                       False                      False   \n",
              "35                       False                      False   \n",
              "36                       False                      False   \n",
              "\n",
              "    bowl_team_Kolkata Knight Riders  bowl_team_Mumbai Indians  \\\n",
              "32                            False                     False   \n",
              "33                            False                     False   \n",
              "34                            False                     False   \n",
              "35                            False                     False   \n",
              "36                            False                     False   \n",
              "\n",
              "    bowl_team_Rajasthan Royals  bowl_team_Royal Challengers Bangalore  \\\n",
              "32                       False                                   True   \n",
              "33                       False                                   True   \n",
              "34                       False                                   True   \n",
              "35                       False                                   True   \n",
              "36                       False                                   True   \n",
              "\n",
              "    bowl_team_Sunrisers Hyderabad  \n",
              "32                          False  \n",
              "33                          False  \n",
              "34                          False  \n",
              "35                          False  \n",
              "36                          False  \n",
              "\n",
              "[5 rows x 23 columns]"
            ],
            "text/html": [
              "\n",
              "  <div id=\"df-c6c6b06d-96cf-4281-9d4a-0bd225122b10\" class=\"colab-df-container\">\n",
              "    <div>\n",
              "<style scoped>\n",
              "    .dataframe tbody tr th:only-of-type {\n",
              "        vertical-align: middle;\n",
              "    }\n",
              "\n",
              "    .dataframe tbody tr th {\n",
              "        vertical-align: top;\n",
              "    }\n",
              "\n",
              "    .dataframe thead th {\n",
              "        text-align: right;\n",
              "    }\n",
              "</style>\n",
              "<table border=\"1\" class=\"dataframe\">\n",
              "  <thead>\n",
              "    <tr style=\"text-align: right;\">\n",
              "      <th></th>\n",
              "      <th>date</th>\n",
              "      <th>runs</th>\n",
              "      <th>wickets</th>\n",
              "      <th>overs</th>\n",
              "      <th>runs_last_5</th>\n",
              "      <th>wickets_last_5</th>\n",
              "      <th>total</th>\n",
              "      <th>bat_team_Chennai Super Kings</th>\n",
              "      <th>bat_team_Delhi Daredevils</th>\n",
              "      <th>bat_team_Kings XI Punjab</th>\n",
              "      <th>...</th>\n",
              "      <th>bat_team_Royal Challengers Bangalore</th>\n",
              "      <th>bat_team_Sunrisers Hyderabad</th>\n",
              "      <th>bowl_team_Chennai Super Kings</th>\n",
              "      <th>bowl_team_Delhi Daredevils</th>\n",
              "      <th>bowl_team_Kings XI Punjab</th>\n",
              "      <th>bowl_team_Kolkata Knight Riders</th>\n",
              "      <th>bowl_team_Mumbai Indians</th>\n",
              "      <th>bowl_team_Rajasthan Royals</th>\n",
              "      <th>bowl_team_Royal Challengers Bangalore</th>\n",
              "      <th>bowl_team_Sunrisers Hyderabad</th>\n",
              "    </tr>\n",
              "  </thead>\n",
              "  <tbody>\n",
              "    <tr>\n",
              "      <th>32</th>\n",
              "      <td>2008-04-18</td>\n",
              "      <td>61</td>\n",
              "      <td>0</td>\n",
              "      <td>5.1</td>\n",
              "      <td>59</td>\n",
              "      <td>0</td>\n",
              "      <td>222</td>\n",
              "      <td>False</td>\n",
              "      <td>False</td>\n",
              "      <td>False</td>\n",
              "      <td>...</td>\n",
              "      <td>False</td>\n",
              "      <td>False</td>\n",
              "      <td>False</td>\n",
              "      <td>False</td>\n",
              "      <td>False</td>\n",
              "      <td>False</td>\n",
              "      <td>False</td>\n",
              "      <td>False</td>\n",
              "      <td>True</td>\n",
              "      <td>False</td>\n",
              "    </tr>\n",
              "    <tr>\n",
              "      <th>33</th>\n",
              "      <td>2008-04-18</td>\n",
              "      <td>61</td>\n",
              "      <td>1</td>\n",
              "      <td>5.2</td>\n",
              "      <td>59</td>\n",
              "      <td>1</td>\n",
              "      <td>222</td>\n",
              "      <td>False</td>\n",
              "      <td>False</td>\n",
              "      <td>False</td>\n",
              "      <td>...</td>\n",
              "      <td>False</td>\n",
              "      <td>False</td>\n",
              "      <td>False</td>\n",
              "      <td>False</td>\n",
              "      <td>False</td>\n",
              "      <td>False</td>\n",
              "      <td>False</td>\n",
              "      <td>False</td>\n",
              "      <td>True</td>\n",
              "      <td>False</td>\n",
              "    </tr>\n",
              "    <tr>\n",
              "      <th>34</th>\n",
              "      <td>2008-04-18</td>\n",
              "      <td>61</td>\n",
              "      <td>1</td>\n",
              "      <td>5.3</td>\n",
              "      <td>59</td>\n",
              "      <td>1</td>\n",
              "      <td>222</td>\n",
              "      <td>False</td>\n",
              "      <td>False</td>\n",
              "      <td>False</td>\n",
              "      <td>...</td>\n",
              "      <td>False</td>\n",
              "      <td>False</td>\n",
              "      <td>False</td>\n",
              "      <td>False</td>\n",
              "      <td>False</td>\n",
              "      <td>False</td>\n",
              "      <td>False</td>\n",
              "      <td>False</td>\n",
              "      <td>True</td>\n",
              "      <td>False</td>\n",
              "    </tr>\n",
              "    <tr>\n",
              "      <th>35</th>\n",
              "      <td>2008-04-18</td>\n",
              "      <td>61</td>\n",
              "      <td>1</td>\n",
              "      <td>5.4</td>\n",
              "      <td>59</td>\n",
              "      <td>1</td>\n",
              "      <td>222</td>\n",
              "      <td>False</td>\n",
              "      <td>False</td>\n",
              "      <td>False</td>\n",
              "      <td>...</td>\n",
              "      <td>False</td>\n",
              "      <td>False</td>\n",
              "      <td>False</td>\n",
              "      <td>False</td>\n",
              "      <td>False</td>\n",
              "      <td>False</td>\n",
              "      <td>False</td>\n",
              "      <td>False</td>\n",
              "      <td>True</td>\n",
              "      <td>False</td>\n",
              "    </tr>\n",
              "    <tr>\n",
              "      <th>36</th>\n",
              "      <td>2008-04-18</td>\n",
              "      <td>61</td>\n",
              "      <td>1</td>\n",
              "      <td>5.5</td>\n",
              "      <td>58</td>\n",
              "      <td>1</td>\n",
              "      <td>222</td>\n",
              "      <td>False</td>\n",
              "      <td>False</td>\n",
              "      <td>False</td>\n",
              "      <td>...</td>\n",
              "      <td>False</td>\n",
              "      <td>False</td>\n",
              "      <td>False</td>\n",
              "      <td>False</td>\n",
              "      <td>False</td>\n",
              "      <td>False</td>\n",
              "      <td>False</td>\n",
              "      <td>False</td>\n",
              "      <td>True</td>\n",
              "      <td>False</td>\n",
              "    </tr>\n",
              "  </tbody>\n",
              "</table>\n",
              "<p>5 rows × 23 columns</p>\n",
              "</div>\n",
              "    <div class=\"colab-df-buttons\">\n",
              "\n",
              "  <div class=\"colab-df-container\">\n",
              "    <button class=\"colab-df-convert\" onclick=\"convertToInteractive('df-c6c6b06d-96cf-4281-9d4a-0bd225122b10')\"\n",
              "            title=\"Convert this dataframe to an interactive table.\"\n",
              "            style=\"display:none;\">\n",
              "\n",
              "  <svg xmlns=\"http://www.w3.org/2000/svg\" height=\"24px\" viewBox=\"0 -960 960 960\">\n",
              "    <path d=\"M120-120v-720h720v720H120Zm60-500h600v-160H180v160Zm220 220h160v-160H400v160Zm0 220h160v-160H400v160ZM180-400h160v-160H180v160Zm440 0h160v-160H620v160ZM180-180h160v-160H180v160Zm440 0h160v-160H620v160Z\"/>\n",
              "  </svg>\n",
              "    </button>\n",
              "\n",
              "  <style>\n",
              "    .colab-df-container {\n",
              "      display:flex;\n",
              "      gap: 12px;\n",
              "    }\n",
              "\n",
              "    .colab-df-convert {\n",
              "      background-color: #E8F0FE;\n",
              "      border: none;\n",
              "      border-radius: 50%;\n",
              "      cursor: pointer;\n",
              "      display: none;\n",
              "      fill: #1967D2;\n",
              "      height: 32px;\n",
              "      padding: 0 0 0 0;\n",
              "      width: 32px;\n",
              "    }\n",
              "\n",
              "    .colab-df-convert:hover {\n",
              "      background-color: #E2EBFA;\n",
              "      box-shadow: 0px 1px 2px rgba(60, 64, 67, 0.3), 0px 1px 3px 1px rgba(60, 64, 67, 0.15);\n",
              "      fill: #174EA6;\n",
              "    }\n",
              "\n",
              "    .colab-df-buttons div {\n",
              "      margin-bottom: 4px;\n",
              "    }\n",
              "\n",
              "    [theme=dark] .colab-df-convert {\n",
              "      background-color: #3B4455;\n",
              "      fill: #D2E3FC;\n",
              "    }\n",
              "\n",
              "    [theme=dark] .colab-df-convert:hover {\n",
              "      background-color: #434B5C;\n",
              "      box-shadow: 0px 1px 3px 1px rgba(0, 0, 0, 0.15);\n",
              "      filter: drop-shadow(0px 1px 2px rgba(0, 0, 0, 0.3));\n",
              "      fill: #FFFFFF;\n",
              "    }\n",
              "  </style>\n",
              "\n",
              "    <script>\n",
              "      const buttonEl =\n",
              "        document.querySelector('#df-c6c6b06d-96cf-4281-9d4a-0bd225122b10 button.colab-df-convert');\n",
              "      buttonEl.style.display =\n",
              "        google.colab.kernel.accessAllowed ? 'block' : 'none';\n",
              "\n",
              "      async function convertToInteractive(key) {\n",
              "        const element = document.querySelector('#df-c6c6b06d-96cf-4281-9d4a-0bd225122b10');\n",
              "        const dataTable =\n",
              "          await google.colab.kernel.invokeFunction('convertToInteractive',\n",
              "                                                    [key], {});\n",
              "        if (!dataTable) return;\n",
              "\n",
              "        const docLinkHtml = 'Like what you see? Visit the ' +\n",
              "          '<a target=\"_blank\" href=https://colab.research.google.com/notebooks/data_table.ipynb>data table notebook</a>'\n",
              "          + ' to learn more about interactive tables.';\n",
              "        element.innerHTML = '';\n",
              "        dataTable['output_type'] = 'display_data';\n",
              "        await google.colab.output.renderOutput(dataTable, element);\n",
              "        const docLink = document.createElement('div');\n",
              "        docLink.innerHTML = docLinkHtml;\n",
              "        element.appendChild(docLink);\n",
              "      }\n",
              "    </script>\n",
              "  </div>\n",
              "\n",
              "\n",
              "<div id=\"df-dd2e7d90-19bb-4a83-9456-4a5cd32c9081\">\n",
              "  <button class=\"colab-df-quickchart\" onclick=\"quickchart('df-dd2e7d90-19bb-4a83-9456-4a5cd32c9081')\"\n",
              "            title=\"Suggest charts\"\n",
              "            style=\"display:none;\">\n",
              "\n",
              "<svg xmlns=\"http://www.w3.org/2000/svg\" height=\"24px\"viewBox=\"0 0 24 24\"\n",
              "     width=\"24px\">\n",
              "    <g>\n",
              "        <path d=\"M19 3H5c-1.1 0-2 .9-2 2v14c0 1.1.9 2 2 2h14c1.1 0 2-.9 2-2V5c0-1.1-.9-2-2-2zM9 17H7v-7h2v7zm4 0h-2V7h2v10zm4 0h-2v-4h2v4z\"/>\n",
              "    </g>\n",
              "</svg>\n",
              "  </button>\n",
              "\n",
              "<style>\n",
              "  .colab-df-quickchart {\n",
              "      --bg-color: #E8F0FE;\n",
              "      --fill-color: #1967D2;\n",
              "      --hover-bg-color: #E2EBFA;\n",
              "      --hover-fill-color: #174EA6;\n",
              "      --disabled-fill-color: #AAA;\n",
              "      --disabled-bg-color: #DDD;\n",
              "  }\n",
              "\n",
              "  [theme=dark] .colab-df-quickchart {\n",
              "      --bg-color: #3B4455;\n",
              "      --fill-color: #D2E3FC;\n",
              "      --hover-bg-color: #434B5C;\n",
              "      --hover-fill-color: #FFFFFF;\n",
              "      --disabled-bg-color: #3B4455;\n",
              "      --disabled-fill-color: #666;\n",
              "  }\n",
              "\n",
              "  .colab-df-quickchart {\n",
              "    background-color: var(--bg-color);\n",
              "    border: none;\n",
              "    border-radius: 50%;\n",
              "    cursor: pointer;\n",
              "    display: none;\n",
              "    fill: var(--fill-color);\n",
              "    height: 32px;\n",
              "    padding: 0;\n",
              "    width: 32px;\n",
              "  }\n",
              "\n",
              "  .colab-df-quickchart:hover {\n",
              "    background-color: var(--hover-bg-color);\n",
              "    box-shadow: 0 1px 2px rgba(60, 64, 67, 0.3), 0 1px 3px 1px rgba(60, 64, 67, 0.15);\n",
              "    fill: var(--button-hover-fill-color);\n",
              "  }\n",
              "\n",
              "  .colab-df-quickchart-complete:disabled,\n",
              "  .colab-df-quickchart-complete:disabled:hover {\n",
              "    background-color: var(--disabled-bg-color);\n",
              "    fill: var(--disabled-fill-color);\n",
              "    box-shadow: none;\n",
              "  }\n",
              "\n",
              "  .colab-df-spinner {\n",
              "    border: 2px solid var(--fill-color);\n",
              "    border-color: transparent;\n",
              "    border-bottom-color: var(--fill-color);\n",
              "    animation:\n",
              "      spin 1s steps(1) infinite;\n",
              "  }\n",
              "\n",
              "  @keyframes spin {\n",
              "    0% {\n",
              "      border-color: transparent;\n",
              "      border-bottom-color: var(--fill-color);\n",
              "      border-left-color: var(--fill-color);\n",
              "    }\n",
              "    20% {\n",
              "      border-color: transparent;\n",
              "      border-left-color: var(--fill-color);\n",
              "      border-top-color: var(--fill-color);\n",
              "    }\n",
              "    30% {\n",
              "      border-color: transparent;\n",
              "      border-left-color: var(--fill-color);\n",
              "      border-top-color: var(--fill-color);\n",
              "      border-right-color: var(--fill-color);\n",
              "    }\n",
              "    40% {\n",
              "      border-color: transparent;\n",
              "      border-right-color: var(--fill-color);\n",
              "      border-top-color: var(--fill-color);\n",
              "    }\n",
              "    60% {\n",
              "      border-color: transparent;\n",
              "      border-right-color: var(--fill-color);\n",
              "    }\n",
              "    80% {\n",
              "      border-color: transparent;\n",
              "      border-right-color: var(--fill-color);\n",
              "      border-bottom-color: var(--fill-color);\n",
              "    }\n",
              "    90% {\n",
              "      border-color: transparent;\n",
              "      border-bottom-color: var(--fill-color);\n",
              "    }\n",
              "  }\n",
              "</style>\n",
              "\n",
              "  <script>\n",
              "    async function quickchart(key) {\n",
              "      const quickchartButtonEl =\n",
              "        document.querySelector('#' + key + ' button');\n",
              "      quickchartButtonEl.disabled = true;  // To prevent multiple clicks.\n",
              "      quickchartButtonEl.classList.add('colab-df-spinner');\n",
              "      try {\n",
              "        const charts = await google.colab.kernel.invokeFunction(\n",
              "            'suggestCharts', [key], {});\n",
              "      } catch (error) {\n",
              "        console.error('Error during call to suggestCharts:', error);\n",
              "      }\n",
              "      quickchartButtonEl.classList.remove('colab-df-spinner');\n",
              "      quickchartButtonEl.classList.add('colab-df-quickchart-complete');\n",
              "    }\n",
              "    (() => {\n",
              "      let quickchartButtonEl =\n",
              "        document.querySelector('#df-dd2e7d90-19bb-4a83-9456-4a5cd32c9081 button');\n",
              "      quickchartButtonEl.style.display =\n",
              "        google.colab.kernel.accessAllowed ? 'block' : 'none';\n",
              "    })();\n",
              "  </script>\n",
              "</div>\n",
              "\n",
              "    </div>\n",
              "  </div>\n"
            ],
            "application/vnd.google.colaboratory.intrinsic+json": {
              "type": "dataframe",
              "variable_name": "encoded_df"
            }
          },
          "metadata": {},
          "execution_count": 24
        }
      ]
    },
    {
      "cell_type": "code",
      "source": [
        "# Rearranging the columns\n",
        "encoded_df = encoded_df[['date', 'bat_team_Chennai Super Kings', 'bat_team_Delhi Daredevils', 'bat_team_Kings XI Punjab',\n",
        "              'bat_team_Kolkata Knight Riders', 'bat_team_Mumbai Indians', 'bat_team_Rajasthan Royals',\n",
        "              'bat_team_Royal Challengers Bangalore', 'bat_team_Sunrisers Hyderabad',\n",
        "              'bowl_team_Chennai Super Kings', 'bowl_team_Delhi Daredevils', 'bowl_team_Kings XI Punjab',\n",
        "              'bowl_team_Kolkata Knight Riders', 'bowl_team_Mumbai Indians', 'bowl_team_Rajasthan Royals',\n",
        "              'bowl_team_Royal Challengers Bangalore', 'bowl_team_Sunrisers Hyderabad',\n",
        "              'overs', 'runs', 'wickets', 'runs_last_5', 'wickets_last_5', 'total']]"
      ],
      "metadata": {
        "execution": {
          "iopub.status.busy": "2021-08-04T14:09:56.449048Z",
          "iopub.execute_input": "2021-08-04T14:09:56.449370Z",
          "iopub.status.idle": "2021-08-04T14:09:56.459024Z",
          "shell.execute_reply.started": "2021-08-04T14:09:56.449337Z",
          "shell.execute_reply": "2021-08-04T14:09:56.457816Z"
        },
        "trusted": true,
        "id": "MI1W9TaMQsEz"
      },
      "execution_count": 25,
      "outputs": []
    },
    {
      "cell_type": "code",
      "source": [
        "# Splitting the data into train and test set\n",
        "X_train = encoded_df.drop(labels='total', axis=1)[encoded_df['date'].dt.year <= 2016]\n",
        "X_test = encoded_df.drop(labels='total', axis=1)[encoded_df['date'].dt.year >= 2017]\n",
        "\n",
        "y_train = encoded_df[encoded_df['date'].dt.year <= 2016]['total'].values\n",
        "y_test = encoded_df[encoded_df['date'].dt.year >= 2017]['total'].values\n",
        "\n",
        "# Removing the 'date' column\n",
        "X_train.drop(labels='date', axis=True, inplace=True)\n",
        "X_test.drop(labels='date', axis=True, inplace=True)\n",
        "\n",
        "print(\"Training set: {} and Test set: {}\".format(X_train.shape, X_test.shape))"
      ],
      "metadata": {
        "execution": {
          "iopub.status.busy": "2021-08-04T14:09:56.461062Z",
          "iopub.execute_input": "2021-08-04T14:09:56.461920Z",
          "iopub.status.idle": "2021-08-04T14:09:56.509391Z",
          "shell.execute_reply.started": "2021-08-04T14:09:56.461666Z",
          "shell.execute_reply": "2021-08-04T14:09:56.508538Z"
        },
        "trusted": true,
        "colab": {
          "base_uri": "https://localhost:8080/"
        },
        "id": "6EXbCwZhQsEz",
        "outputId": "e606196e-868b-4360-9b5f-8f1d0b7a9708"
      },
      "execution_count": 26,
      "outputs": [
        {
          "output_type": "stream",
          "name": "stdout",
          "text": [
            "Training set: (37330, 21) and Test set: (2778, 21)\n"
          ]
        }
      ]
    },
    {
      "cell_type": "markdown",
      "source": [
        "# Model Building\n",
        "I will experiment with 3 different algorithms, </br>\n",
        "• Linear Regression </br>\n",
        "• Decision Tree Regression </br>\n",
        "• Random Forest Regression </br>\n",
        "\n",
        " ----- Boosting Algorithm ----- </br>\n",
        "• Adaptive Boosting (AdaBoost) Algorithm </br>"
      ],
      "metadata": {
        "execution": {
          "iopub.status.busy": "2021-08-03T16:36:34.430524Z",
          "iopub.execute_input": "2021-08-03T16:36:34.431208Z",
          "iopub.status.idle": "2021-08-03T16:36:34.435856Z",
          "shell.execute_reply.started": "2021-08-03T16:36:34.43114Z",
          "shell.execute_reply": "2021-08-03T16:36:34.43453Z"
        },
        "id": "22_srGvbQsEz"
      }
    },
    {
      "cell_type": "markdown",
      "source": [
        "# *Linear Regression*"
      ],
      "metadata": {
        "id": "TZKxHQVCQsEz"
      }
    },
    {
      "cell_type": "code",
      "source": [
        "# Linear Regression Model\n",
        "linear_regressor = LinearRegression()\n",
        "linear_regressor.fit(X_train,y_train)"
      ],
      "metadata": {
        "execution": {
          "iopub.status.busy": "2021-08-04T14:09:56.510442Z",
          "iopub.execute_input": "2021-08-04T14:09:56.510921Z",
          "iopub.status.idle": "2021-08-04T14:09:56.536318Z",
          "shell.execute_reply.started": "2021-08-04T14:09:56.510877Z",
          "shell.execute_reply": "2021-08-04T14:09:56.535299Z"
        },
        "trusted": true,
        "colab": {
          "base_uri": "https://localhost:8080/",
          "height": 74
        },
        "id": "igdjaq37QsEz",
        "outputId": "6631f63b-b3f8-49a3-d83a-66e2b766f216"
      },
      "execution_count": 27,
      "outputs": [
        {
          "output_type": "execute_result",
          "data": {
            "text/plain": [
              "LinearRegression()"
            ],
            "text/html": [
              "<style>#sk-container-id-1 {color: black;}#sk-container-id-1 pre{padding: 0;}#sk-container-id-1 div.sk-toggleable {background-color: white;}#sk-container-id-1 label.sk-toggleable__label {cursor: pointer;display: block;width: 100%;margin-bottom: 0;padding: 0.3em;box-sizing: border-box;text-align: center;}#sk-container-id-1 label.sk-toggleable__label-arrow:before {content: \"▸\";float: left;margin-right: 0.25em;color: #696969;}#sk-container-id-1 label.sk-toggleable__label-arrow:hover:before {color: black;}#sk-container-id-1 div.sk-estimator:hover label.sk-toggleable__label-arrow:before {color: black;}#sk-container-id-1 div.sk-toggleable__content {max-height: 0;max-width: 0;overflow: hidden;text-align: left;background-color: #f0f8ff;}#sk-container-id-1 div.sk-toggleable__content pre {margin: 0.2em;color: black;border-radius: 0.25em;background-color: #f0f8ff;}#sk-container-id-1 input.sk-toggleable__control:checked~div.sk-toggleable__content {max-height: 200px;max-width: 100%;overflow: auto;}#sk-container-id-1 input.sk-toggleable__control:checked~label.sk-toggleable__label-arrow:before {content: \"▾\";}#sk-container-id-1 div.sk-estimator input.sk-toggleable__control:checked~label.sk-toggleable__label {background-color: #d4ebff;}#sk-container-id-1 div.sk-label input.sk-toggleable__control:checked~label.sk-toggleable__label {background-color: #d4ebff;}#sk-container-id-1 input.sk-hidden--visually {border: 0;clip: rect(1px 1px 1px 1px);clip: rect(1px, 1px, 1px, 1px);height: 1px;margin: -1px;overflow: hidden;padding: 0;position: absolute;width: 1px;}#sk-container-id-1 div.sk-estimator {font-family: monospace;background-color: #f0f8ff;border: 1px dotted black;border-radius: 0.25em;box-sizing: border-box;margin-bottom: 0.5em;}#sk-container-id-1 div.sk-estimator:hover {background-color: #d4ebff;}#sk-container-id-1 div.sk-parallel-item::after {content: \"\";width: 100%;border-bottom: 1px solid gray;flex-grow: 1;}#sk-container-id-1 div.sk-label:hover label.sk-toggleable__label {background-color: #d4ebff;}#sk-container-id-1 div.sk-serial::before {content: \"\";position: absolute;border-left: 1px solid gray;box-sizing: border-box;top: 0;bottom: 0;left: 50%;z-index: 0;}#sk-container-id-1 div.sk-serial {display: flex;flex-direction: column;align-items: center;background-color: white;padding-right: 0.2em;padding-left: 0.2em;position: relative;}#sk-container-id-1 div.sk-item {position: relative;z-index: 1;}#sk-container-id-1 div.sk-parallel {display: flex;align-items: stretch;justify-content: center;background-color: white;position: relative;}#sk-container-id-1 div.sk-item::before, #sk-container-id-1 div.sk-parallel-item::before {content: \"\";position: absolute;border-left: 1px solid gray;box-sizing: border-box;top: 0;bottom: 0;left: 50%;z-index: -1;}#sk-container-id-1 div.sk-parallel-item {display: flex;flex-direction: column;z-index: 1;position: relative;background-color: white;}#sk-container-id-1 div.sk-parallel-item:first-child::after {align-self: flex-end;width: 50%;}#sk-container-id-1 div.sk-parallel-item:last-child::after {align-self: flex-start;width: 50%;}#sk-container-id-1 div.sk-parallel-item:only-child::after {width: 0;}#sk-container-id-1 div.sk-dashed-wrapped {border: 1px dashed gray;margin: 0 0.4em 0.5em 0.4em;box-sizing: border-box;padding-bottom: 0.4em;background-color: white;}#sk-container-id-1 div.sk-label label {font-family: monospace;font-weight: bold;display: inline-block;line-height: 1.2em;}#sk-container-id-1 div.sk-label-container {text-align: center;}#sk-container-id-1 div.sk-container {/* jupyter's `normalize.less` sets `[hidden] { display: none; }` but bootstrap.min.css set `[hidden] { display: none !important; }` so we also need the `!important` here to be able to override the default hidden behavior on the sphinx rendered scikit-learn.org. See: https://github.com/scikit-learn/scikit-learn/issues/21755 */display: inline-block !important;position: relative;}#sk-container-id-1 div.sk-text-repr-fallback {display: none;}</style><div id=\"sk-container-id-1\" class=\"sk-top-container\"><div class=\"sk-text-repr-fallback\"><pre>LinearRegression()</pre><b>In a Jupyter environment, please rerun this cell to show the HTML representation or trust the notebook. <br />On GitHub, the HTML representation is unable to render, please try loading this page with nbviewer.org.</b></div><div class=\"sk-container\" hidden><div class=\"sk-item\"><div class=\"sk-estimator sk-toggleable\"><input class=\"sk-toggleable__control sk-hidden--visually\" id=\"sk-estimator-id-1\" type=\"checkbox\" checked><label for=\"sk-estimator-id-1\" class=\"sk-toggleable__label sk-toggleable__label-arrow\">LinearRegression</label><div class=\"sk-toggleable__content\"><pre>LinearRegression()</pre></div></div></div></div></div>"
            ]
          },
          "metadata": {},
          "execution_count": 27
        }
      ]
    },
    {
      "cell_type": "code",
      "source": [
        "# Predicting results\n",
        "y_pred_lr = linear_regressor.predict(X_test)\n",
        "\n",
        "# Linear Regression - Model Evaluation\n",
        "print(\"---- Linear Regression ----\")\n",
        "print(\"Mean Absolute Error (MAE): {}\".format(mae(y_test, y_pred_lr)))\n",
        "print(\"Mean Squared Error (MSE): {}\".format(mse(y_test, y_pred_lr)))\n",
        "print(\"Root Mean Squared Error (RMSE): {}\".format(np.sqrt(mse(y_test, y_pred_lr))))"
      ],
      "metadata": {
        "execution": {
          "iopub.status.busy": "2021-08-04T14:09:56.551591Z",
          "iopub.execute_input": "2021-08-04T14:09:56.555264Z",
          "iopub.status.idle": "2021-08-04T14:09:56.573391Z",
          "shell.execute_reply.started": "2021-08-04T14:09:56.555205Z",
          "shell.execute_reply": "2021-08-04T14:09:56.572154Z"
        },
        "trusted": true,
        "colab": {
          "base_uri": "https://localhost:8080/"
        },
        "id": "Q6ZsjeSBQsEz",
        "outputId": "c62161fa-bdeb-4251-fb41-5e54374aac51"
      },
      "execution_count": 28,
      "outputs": [
        {
          "output_type": "stream",
          "name": "stdout",
          "text": [
            "---- Linear Regression ----\n",
            "Mean Absolute Error (MAE): 12.118617546193299\n",
            "Mean Squared Error (MSE): 251.00792310417438\n",
            "Root Mean Squared Error (RMSE): 15.843229566732106\n"
          ]
        }
      ]
    },
    {
      "cell_type": "markdown",
      "source": [
        "# *Decision Tree*"
      ],
      "metadata": {
        "id": "HeJzcH7sQsE0"
      }
    },
    {
      "cell_type": "code",
      "source": [
        "# Decision Tree Regression Model\n",
        "decision_regressor = DecisionTreeRegressor()\n",
        "decision_regressor.fit(X_train,y_train)"
      ],
      "metadata": {
        "execution": {
          "iopub.status.busy": "2021-08-04T14:09:56.575060Z",
          "iopub.execute_input": "2021-08-04T14:09:56.575742Z",
          "iopub.status.idle": "2021-08-04T14:09:56.791458Z",
          "shell.execute_reply.started": "2021-08-04T14:09:56.575692Z",
          "shell.execute_reply": "2021-08-04T14:09:56.790418Z"
        },
        "trusted": true,
        "colab": {
          "base_uri": "https://localhost:8080/",
          "height": 74
        },
        "id": "8HFBQ6HiQsE0",
        "outputId": "c676e33a-bf69-45a3-a1fa-df694e952fab"
      },
      "execution_count": 29,
      "outputs": [
        {
          "output_type": "execute_result",
          "data": {
            "text/plain": [
              "DecisionTreeRegressor()"
            ],
            "text/html": [
              "<style>#sk-container-id-2 {color: black;}#sk-container-id-2 pre{padding: 0;}#sk-container-id-2 div.sk-toggleable {background-color: white;}#sk-container-id-2 label.sk-toggleable__label {cursor: pointer;display: block;width: 100%;margin-bottom: 0;padding: 0.3em;box-sizing: border-box;text-align: center;}#sk-container-id-2 label.sk-toggleable__label-arrow:before {content: \"▸\";float: left;margin-right: 0.25em;color: #696969;}#sk-container-id-2 label.sk-toggleable__label-arrow:hover:before {color: black;}#sk-container-id-2 div.sk-estimator:hover label.sk-toggleable__label-arrow:before {color: black;}#sk-container-id-2 div.sk-toggleable__content {max-height: 0;max-width: 0;overflow: hidden;text-align: left;background-color: #f0f8ff;}#sk-container-id-2 div.sk-toggleable__content pre {margin: 0.2em;color: black;border-radius: 0.25em;background-color: #f0f8ff;}#sk-container-id-2 input.sk-toggleable__control:checked~div.sk-toggleable__content {max-height: 200px;max-width: 100%;overflow: auto;}#sk-container-id-2 input.sk-toggleable__control:checked~label.sk-toggleable__label-arrow:before {content: \"▾\";}#sk-container-id-2 div.sk-estimator input.sk-toggleable__control:checked~label.sk-toggleable__label {background-color: #d4ebff;}#sk-container-id-2 div.sk-label input.sk-toggleable__control:checked~label.sk-toggleable__label {background-color: #d4ebff;}#sk-container-id-2 input.sk-hidden--visually {border: 0;clip: rect(1px 1px 1px 1px);clip: rect(1px, 1px, 1px, 1px);height: 1px;margin: -1px;overflow: hidden;padding: 0;position: absolute;width: 1px;}#sk-container-id-2 div.sk-estimator {font-family: monospace;background-color: #f0f8ff;border: 1px dotted black;border-radius: 0.25em;box-sizing: border-box;margin-bottom: 0.5em;}#sk-container-id-2 div.sk-estimator:hover {background-color: #d4ebff;}#sk-container-id-2 div.sk-parallel-item::after {content: \"\";width: 100%;border-bottom: 1px solid gray;flex-grow: 1;}#sk-container-id-2 div.sk-label:hover label.sk-toggleable__label {background-color: #d4ebff;}#sk-container-id-2 div.sk-serial::before {content: \"\";position: absolute;border-left: 1px solid gray;box-sizing: border-box;top: 0;bottom: 0;left: 50%;z-index: 0;}#sk-container-id-2 div.sk-serial {display: flex;flex-direction: column;align-items: center;background-color: white;padding-right: 0.2em;padding-left: 0.2em;position: relative;}#sk-container-id-2 div.sk-item {position: relative;z-index: 1;}#sk-container-id-2 div.sk-parallel {display: flex;align-items: stretch;justify-content: center;background-color: white;position: relative;}#sk-container-id-2 div.sk-item::before, #sk-container-id-2 div.sk-parallel-item::before {content: \"\";position: absolute;border-left: 1px solid gray;box-sizing: border-box;top: 0;bottom: 0;left: 50%;z-index: -1;}#sk-container-id-2 div.sk-parallel-item {display: flex;flex-direction: column;z-index: 1;position: relative;background-color: white;}#sk-container-id-2 div.sk-parallel-item:first-child::after {align-self: flex-end;width: 50%;}#sk-container-id-2 div.sk-parallel-item:last-child::after {align-self: flex-start;width: 50%;}#sk-container-id-2 div.sk-parallel-item:only-child::after {width: 0;}#sk-container-id-2 div.sk-dashed-wrapped {border: 1px dashed gray;margin: 0 0.4em 0.5em 0.4em;box-sizing: border-box;padding-bottom: 0.4em;background-color: white;}#sk-container-id-2 div.sk-label label {font-family: monospace;font-weight: bold;display: inline-block;line-height: 1.2em;}#sk-container-id-2 div.sk-label-container {text-align: center;}#sk-container-id-2 div.sk-container {/* jupyter's `normalize.less` sets `[hidden] { display: none; }` but bootstrap.min.css set `[hidden] { display: none !important; }` so we also need the `!important` here to be able to override the default hidden behavior on the sphinx rendered scikit-learn.org. See: https://github.com/scikit-learn/scikit-learn/issues/21755 */display: inline-block !important;position: relative;}#sk-container-id-2 div.sk-text-repr-fallback {display: none;}</style><div id=\"sk-container-id-2\" class=\"sk-top-container\"><div class=\"sk-text-repr-fallback\"><pre>DecisionTreeRegressor()</pre><b>In a Jupyter environment, please rerun this cell to show the HTML representation or trust the notebook. <br />On GitHub, the HTML representation is unable to render, please try loading this page with nbviewer.org.</b></div><div class=\"sk-container\" hidden><div class=\"sk-item\"><div class=\"sk-estimator sk-toggleable\"><input class=\"sk-toggleable__control sk-hidden--visually\" id=\"sk-estimator-id-2\" type=\"checkbox\" checked><label for=\"sk-estimator-id-2\" class=\"sk-toggleable__label sk-toggleable__label-arrow\">DecisionTreeRegressor</label><div class=\"sk-toggleable__content\"><pre>DecisionTreeRegressor()</pre></div></div></div></div></div>"
            ]
          },
          "metadata": {},
          "execution_count": 29
        }
      ]
    },
    {
      "cell_type": "code",
      "source": [
        "# Predicting results\n",
        "y_pred_dt = decision_regressor.predict(X_test)\n",
        "\n",
        "# Decision Tree Regression - Model Evaluation\n",
        "print(\"---- Decision Tree Regression  ----\")\n",
        "print(\"Mean Absolute Error (MAE): {}\".format(mae(y_test, y_pred_dt)))\n",
        "print(\"Mean Squared Error (MSE): {}\".format(mse(y_test, y_pred_dt)))\n",
        "print(\"Root Mean Squared Error (RMSE): {}\".format(np.sqrt(mse(y_test, y_pred_dt))))"
      ],
      "metadata": {
        "execution": {
          "iopub.status.busy": "2021-08-04T14:09:56.802238Z",
          "iopub.execute_input": "2021-08-04T14:09:56.802664Z",
          "iopub.status.idle": "2021-08-04T14:09:56.815315Z",
          "shell.execute_reply.started": "2021-08-04T14:09:56.802628Z",
          "shell.execute_reply": "2021-08-04T14:09:56.813935Z"
        },
        "trusted": true,
        "colab": {
          "base_uri": "https://localhost:8080/"
        },
        "id": "hKeuEFb1QsE0",
        "outputId": "f641137b-b695-4af1-9cc2-1b4e34712c47"
      },
      "execution_count": 30,
      "outputs": [
        {
          "output_type": "stream",
          "name": "stdout",
          "text": [
            "---- Decision Tree Regression  ----\n",
            "Mean Absolute Error (MAE): 17.303095752339814\n",
            "Mean Squared Error (MSE): 536.4535637149028\n",
            "Root Mean Squared Error (RMSE): 23.16146721852704\n"
          ]
        }
      ]
    },
    {
      "cell_type": "markdown",
      "source": [
        "### *Random Forest*"
      ],
      "metadata": {
        "id": "H88_8JeeQsE0"
      }
    },
    {
      "cell_type": "code",
      "source": [
        "# Random Forest Regression Model\n",
        "random_regressor = RandomForestRegressor()\n",
        "random_regressor.fit(X_train,y_train)"
      ],
      "metadata": {
        "execution": {
          "iopub.status.busy": "2021-08-04T14:09:56.816839Z",
          "iopub.execute_input": "2021-08-04T14:09:56.817314Z",
          "iopub.status.idle": "2021-08-04T14:10:07.861645Z",
          "shell.execute_reply.started": "2021-08-04T14:09:56.817258Z",
          "shell.execute_reply": "2021-08-04T14:10:07.860492Z"
        },
        "trusted": true,
        "colab": {
          "base_uri": "https://localhost:8080/",
          "height": 74
        },
        "id": "AANgAMoWQsE0",
        "outputId": "7d2a6b91-349e-4e45-f4d2-31f44863a60b"
      },
      "execution_count": 31,
      "outputs": [
        {
          "output_type": "execute_result",
          "data": {
            "text/plain": [
              "RandomForestRegressor()"
            ],
            "text/html": [
              "<style>#sk-container-id-3 {color: black;}#sk-container-id-3 pre{padding: 0;}#sk-container-id-3 div.sk-toggleable {background-color: white;}#sk-container-id-3 label.sk-toggleable__label {cursor: pointer;display: block;width: 100%;margin-bottom: 0;padding: 0.3em;box-sizing: border-box;text-align: center;}#sk-container-id-3 label.sk-toggleable__label-arrow:before {content: \"▸\";float: left;margin-right: 0.25em;color: #696969;}#sk-container-id-3 label.sk-toggleable__label-arrow:hover:before {color: black;}#sk-container-id-3 div.sk-estimator:hover label.sk-toggleable__label-arrow:before {color: black;}#sk-container-id-3 div.sk-toggleable__content {max-height: 0;max-width: 0;overflow: hidden;text-align: left;background-color: #f0f8ff;}#sk-container-id-3 div.sk-toggleable__content pre {margin: 0.2em;color: black;border-radius: 0.25em;background-color: #f0f8ff;}#sk-container-id-3 input.sk-toggleable__control:checked~div.sk-toggleable__content {max-height: 200px;max-width: 100%;overflow: auto;}#sk-container-id-3 input.sk-toggleable__control:checked~label.sk-toggleable__label-arrow:before {content: \"▾\";}#sk-container-id-3 div.sk-estimator input.sk-toggleable__control:checked~label.sk-toggleable__label {background-color: #d4ebff;}#sk-container-id-3 div.sk-label input.sk-toggleable__control:checked~label.sk-toggleable__label {background-color: #d4ebff;}#sk-container-id-3 input.sk-hidden--visually {border: 0;clip: rect(1px 1px 1px 1px);clip: rect(1px, 1px, 1px, 1px);height: 1px;margin: -1px;overflow: hidden;padding: 0;position: absolute;width: 1px;}#sk-container-id-3 div.sk-estimator {font-family: monospace;background-color: #f0f8ff;border: 1px dotted black;border-radius: 0.25em;box-sizing: border-box;margin-bottom: 0.5em;}#sk-container-id-3 div.sk-estimator:hover {background-color: #d4ebff;}#sk-container-id-3 div.sk-parallel-item::after {content: \"\";width: 100%;border-bottom: 1px solid gray;flex-grow: 1;}#sk-container-id-3 div.sk-label:hover label.sk-toggleable__label {background-color: #d4ebff;}#sk-container-id-3 div.sk-serial::before {content: \"\";position: absolute;border-left: 1px solid gray;box-sizing: border-box;top: 0;bottom: 0;left: 50%;z-index: 0;}#sk-container-id-3 div.sk-serial {display: flex;flex-direction: column;align-items: center;background-color: white;padding-right: 0.2em;padding-left: 0.2em;position: relative;}#sk-container-id-3 div.sk-item {position: relative;z-index: 1;}#sk-container-id-3 div.sk-parallel {display: flex;align-items: stretch;justify-content: center;background-color: white;position: relative;}#sk-container-id-3 div.sk-item::before, #sk-container-id-3 div.sk-parallel-item::before {content: \"\";position: absolute;border-left: 1px solid gray;box-sizing: border-box;top: 0;bottom: 0;left: 50%;z-index: -1;}#sk-container-id-3 div.sk-parallel-item {display: flex;flex-direction: column;z-index: 1;position: relative;background-color: white;}#sk-container-id-3 div.sk-parallel-item:first-child::after {align-self: flex-end;width: 50%;}#sk-container-id-3 div.sk-parallel-item:last-child::after {align-self: flex-start;width: 50%;}#sk-container-id-3 div.sk-parallel-item:only-child::after {width: 0;}#sk-container-id-3 div.sk-dashed-wrapped {border: 1px dashed gray;margin: 0 0.4em 0.5em 0.4em;box-sizing: border-box;padding-bottom: 0.4em;background-color: white;}#sk-container-id-3 div.sk-label label {font-family: monospace;font-weight: bold;display: inline-block;line-height: 1.2em;}#sk-container-id-3 div.sk-label-container {text-align: center;}#sk-container-id-3 div.sk-container {/* jupyter's `normalize.less` sets `[hidden] { display: none; }` but bootstrap.min.css set `[hidden] { display: none !important; }` so we also need the `!important` here to be able to override the default hidden behavior on the sphinx rendered scikit-learn.org. See: https://github.com/scikit-learn/scikit-learn/issues/21755 */display: inline-block !important;position: relative;}#sk-container-id-3 div.sk-text-repr-fallback {display: none;}</style><div id=\"sk-container-id-3\" class=\"sk-top-container\"><div class=\"sk-text-repr-fallback\"><pre>RandomForestRegressor()</pre><b>In a Jupyter environment, please rerun this cell to show the HTML representation or trust the notebook. <br />On GitHub, the HTML representation is unable to render, please try loading this page with nbviewer.org.</b></div><div class=\"sk-container\" hidden><div class=\"sk-item\"><div class=\"sk-estimator sk-toggleable\"><input class=\"sk-toggleable__control sk-hidden--visually\" id=\"sk-estimator-id-3\" type=\"checkbox\" checked><label for=\"sk-estimator-id-3\" class=\"sk-toggleable__label sk-toggleable__label-arrow\">RandomForestRegressor</label><div class=\"sk-toggleable__content\"><pre>RandomForestRegressor()</pre></div></div></div></div></div>"
            ]
          },
          "metadata": {},
          "execution_count": 31
        }
      ]
    },
    {
      "cell_type": "code",
      "source": [
        "# Predicting results\n",
        "y_pred_rf = random_regressor.predict(X_test)\n",
        "\n",
        "# Random Forest Regression - Model Evaluation\n",
        "print(\"---- Random Forest Regression ----\")\n",
        "print(\"Mean Absolute Error (MAE): {}\".format(mae(y_test, y_pred_rf)))\n",
        "print(\"Mean Squared Error (MSE): {}\".format(mse(y_test, y_pred_rf)))\n",
        "print(\"Root Mean Squared Error (RMSE): {}\".format(np.sqrt(mse(y_test, y_pred_rf))))"
      ],
      "metadata": {
        "execution": {
          "iopub.status.busy": "2021-08-04T14:10:07.936021Z",
          "iopub.execute_input": "2021-08-04T14:10:07.936348Z",
          "iopub.status.idle": "2021-08-04T14:10:07.945078Z",
          "shell.execute_reply.started": "2021-08-04T14:10:07.936316Z",
          "shell.execute_reply": "2021-08-04T14:10:07.943814Z"
        },
        "trusted": true,
        "colab": {
          "base_uri": "https://localhost:8080/"
        },
        "id": "B_MDgFP3QsE0",
        "outputId": "b9902032-98aa-4652-eea8-7ab7563939f1"
      },
      "execution_count": 32,
      "outputs": [
        {
          "output_type": "stream",
          "name": "stdout",
          "text": [
            "---- Random Forest Regression ----\n",
            "Mean Absolute Error (MAE): 13.68883211628784\n",
            "Mean Squared Error (MSE): 330.7493505200107\n",
            "Root Mean Squared Error (RMSE): 18.186515623395557\n"
          ]
        }
      ]
    },
    {
      "cell_type": "markdown",
      "source": [
        "*Note: Since Linear Regression model performs best as compared to other two, we use this model and boost it's performance using AdaBoost Algorithm*"
      ],
      "metadata": {
        "id": "w1PsnIptQsE0"
      }
    },
    {
      "cell_type": "markdown",
      "source": [
        "### *AdaBoost Algorithm*"
      ],
      "metadata": {
        "id": "cf8svR7mQsE0"
      }
    },
    {
      "cell_type": "code",
      "source": [
        "# AdaBoost Model using Linear Regression as the base learner\n",
        "adb_regressor = AdaBoostRegressor(base_estimator=linear_regressor, n_estimators=100)\n",
        "adb_regressor.fit(X_train, y_train)"
      ],
      "metadata": {
        "execution": {
          "iopub.status.busy": "2021-08-04T14:10:07.946616Z",
          "iopub.execute_input": "2021-08-04T14:10:07.947170Z",
          "iopub.status.idle": "2021-08-04T14:10:08.649102Z",
          "shell.execute_reply.started": "2021-08-04T14:10:07.947133Z",
          "shell.execute_reply": "2021-08-04T14:10:08.647810Z"
        },
        "trusted": true,
        "colab": {
          "base_uri": "https://localhost:8080/",
          "height": 116
        },
        "id": "St6nDmKrQsE1",
        "outputId": "bcacb64d-5f3f-40e9-f1ac-b62400f850e9"
      },
      "execution_count": 33,
      "outputs": [
        {
          "output_type": "execute_result",
          "data": {
            "text/plain": [
              "AdaBoostRegressor(base_estimator=LinearRegression(), n_estimators=100)"
            ],
            "text/html": [
              "<style>#sk-container-id-4 {color: black;}#sk-container-id-4 pre{padding: 0;}#sk-container-id-4 div.sk-toggleable {background-color: white;}#sk-container-id-4 label.sk-toggleable__label {cursor: pointer;display: block;width: 100%;margin-bottom: 0;padding: 0.3em;box-sizing: border-box;text-align: center;}#sk-container-id-4 label.sk-toggleable__label-arrow:before {content: \"▸\";float: left;margin-right: 0.25em;color: #696969;}#sk-container-id-4 label.sk-toggleable__label-arrow:hover:before {color: black;}#sk-container-id-4 div.sk-estimator:hover label.sk-toggleable__label-arrow:before {color: black;}#sk-container-id-4 div.sk-toggleable__content {max-height: 0;max-width: 0;overflow: hidden;text-align: left;background-color: #f0f8ff;}#sk-container-id-4 div.sk-toggleable__content pre {margin: 0.2em;color: black;border-radius: 0.25em;background-color: #f0f8ff;}#sk-container-id-4 input.sk-toggleable__control:checked~div.sk-toggleable__content {max-height: 200px;max-width: 100%;overflow: auto;}#sk-container-id-4 input.sk-toggleable__control:checked~label.sk-toggleable__label-arrow:before {content: \"▾\";}#sk-container-id-4 div.sk-estimator input.sk-toggleable__control:checked~label.sk-toggleable__label {background-color: #d4ebff;}#sk-container-id-4 div.sk-label input.sk-toggleable__control:checked~label.sk-toggleable__label {background-color: #d4ebff;}#sk-container-id-4 input.sk-hidden--visually {border: 0;clip: rect(1px 1px 1px 1px);clip: rect(1px, 1px, 1px, 1px);height: 1px;margin: -1px;overflow: hidden;padding: 0;position: absolute;width: 1px;}#sk-container-id-4 div.sk-estimator {font-family: monospace;background-color: #f0f8ff;border: 1px dotted black;border-radius: 0.25em;box-sizing: border-box;margin-bottom: 0.5em;}#sk-container-id-4 div.sk-estimator:hover {background-color: #d4ebff;}#sk-container-id-4 div.sk-parallel-item::after {content: \"\";width: 100%;border-bottom: 1px solid gray;flex-grow: 1;}#sk-container-id-4 div.sk-label:hover label.sk-toggleable__label {background-color: #d4ebff;}#sk-container-id-4 div.sk-serial::before {content: \"\";position: absolute;border-left: 1px solid gray;box-sizing: border-box;top: 0;bottom: 0;left: 50%;z-index: 0;}#sk-container-id-4 div.sk-serial {display: flex;flex-direction: column;align-items: center;background-color: white;padding-right: 0.2em;padding-left: 0.2em;position: relative;}#sk-container-id-4 div.sk-item {position: relative;z-index: 1;}#sk-container-id-4 div.sk-parallel {display: flex;align-items: stretch;justify-content: center;background-color: white;position: relative;}#sk-container-id-4 div.sk-item::before, #sk-container-id-4 div.sk-parallel-item::before {content: \"\";position: absolute;border-left: 1px solid gray;box-sizing: border-box;top: 0;bottom: 0;left: 50%;z-index: -1;}#sk-container-id-4 div.sk-parallel-item {display: flex;flex-direction: column;z-index: 1;position: relative;background-color: white;}#sk-container-id-4 div.sk-parallel-item:first-child::after {align-self: flex-end;width: 50%;}#sk-container-id-4 div.sk-parallel-item:last-child::after {align-self: flex-start;width: 50%;}#sk-container-id-4 div.sk-parallel-item:only-child::after {width: 0;}#sk-container-id-4 div.sk-dashed-wrapped {border: 1px dashed gray;margin: 0 0.4em 0.5em 0.4em;box-sizing: border-box;padding-bottom: 0.4em;background-color: white;}#sk-container-id-4 div.sk-label label {font-family: monospace;font-weight: bold;display: inline-block;line-height: 1.2em;}#sk-container-id-4 div.sk-label-container {text-align: center;}#sk-container-id-4 div.sk-container {/* jupyter's `normalize.less` sets `[hidden] { display: none; }` but bootstrap.min.css set `[hidden] { display: none !important; }` so we also need the `!important` here to be able to override the default hidden behavior on the sphinx rendered scikit-learn.org. See: https://github.com/scikit-learn/scikit-learn/issues/21755 */display: inline-block !important;position: relative;}#sk-container-id-4 div.sk-text-repr-fallback {display: none;}</style><div id=\"sk-container-id-4\" class=\"sk-top-container\"><div class=\"sk-text-repr-fallback\"><pre>AdaBoostRegressor(base_estimator=LinearRegression(), n_estimators=100)</pre><b>In a Jupyter environment, please rerun this cell to show the HTML representation or trust the notebook. <br />On GitHub, the HTML representation is unable to render, please try loading this page with nbviewer.org.</b></div><div class=\"sk-container\" hidden><div class=\"sk-item sk-dashed-wrapped\"><div class=\"sk-label-container\"><div class=\"sk-label sk-toggleable\"><input class=\"sk-toggleable__control sk-hidden--visually\" id=\"sk-estimator-id-4\" type=\"checkbox\" ><label for=\"sk-estimator-id-4\" class=\"sk-toggleable__label sk-toggleable__label-arrow\">AdaBoostRegressor</label><div class=\"sk-toggleable__content\"><pre>AdaBoostRegressor(base_estimator=LinearRegression(), n_estimators=100)</pre></div></div></div><div class=\"sk-parallel\"><div class=\"sk-parallel-item\"><div class=\"sk-item\"><div class=\"sk-label-container\"><div class=\"sk-label sk-toggleable\"><input class=\"sk-toggleable__control sk-hidden--visually\" id=\"sk-estimator-id-5\" type=\"checkbox\" ><label for=\"sk-estimator-id-5\" class=\"sk-toggleable__label sk-toggleable__label-arrow\">base_estimator: LinearRegression</label><div class=\"sk-toggleable__content\"><pre>LinearRegression()</pre></div></div></div><div class=\"sk-serial\"><div class=\"sk-item\"><div class=\"sk-estimator sk-toggleable\"><input class=\"sk-toggleable__control sk-hidden--visually\" id=\"sk-estimator-id-6\" type=\"checkbox\" ><label for=\"sk-estimator-id-6\" class=\"sk-toggleable__label sk-toggleable__label-arrow\">LinearRegression</label><div class=\"sk-toggleable__content\"><pre>LinearRegression()</pre></div></div></div></div></div></div></div></div></div></div>"
            ]
          },
          "metadata": {},
          "execution_count": 33
        }
      ]
    },
    {
      "cell_type": "code",
      "source": [
        "# Predicting results\n",
        "y_pred_adb = adb_regressor.predict(X_test)\n",
        "\n",
        "# AdaBoost Regression - Model Evaluation\n",
        "print(\"---- AdaBoost Regression ----\")\n",
        "print(\"Mean Absolute Error (MAE): {}\".format(mae(y_test, y_pred_adb)))\n",
        "print(\"Mean Squared Error (MSE): {}\".format(mse(y_test, y_pred_adb)))\n",
        "print(\"Root Mean Squared Error (RMSE): {}\".format(np.sqrt(mse(y_test, y_pred_adb))))"
      ],
      "metadata": {
        "execution": {
          "iopub.status.busy": "2021-08-04T14:10:08.682669Z",
          "iopub.execute_input": "2021-08-04T14:10:08.685878Z",
          "iopub.status.idle": "2021-08-04T14:10:08.703425Z",
          "shell.execute_reply.started": "2021-08-04T14:10:08.685816Z",
          "shell.execute_reply": "2021-08-04T14:10:08.702062Z"
        },
        "trusted": true,
        "colab": {
          "base_uri": "https://localhost:8080/"
        },
        "id": "zKTQHi2yQsE1",
        "outputId": "c9d24054-322a-4ba4-b3dc-c49e671a8de1"
      },
      "execution_count": 34,
      "outputs": [
        {
          "output_type": "stream",
          "name": "stdout",
          "text": [
            "---- AdaBoost Regression ----\n",
            "Mean Absolute Error (MAE): 12.103385246815066\n",
            "Mean Squared Error (MSE): 246.64877789757597\n",
            "Root Mean Squared Error (RMSE): 15.705055806891485\n"
          ]
        }
      ]
    },
    {
      "cell_type": "markdown",
      "source": [
        "*Note: Using AdaBoost did not reduce the error to a significant level. Hence, we will you simple linear regression model for prediction*"
      ],
      "metadata": {
        "id": "ETidBFeGQsE1"
      }
    },
    {
      "cell_type": "markdown",
      "source": [
        "## **Predictions**\n",
        "• Model *trained on* the data from **IPL Seasons 1 to 9** ie: (2008 to 2016)<br/>\n",
        "• Model *tested on* data from **IPL Season 10** ie: (2017)<br/>\n",
        "• Model *predicts on* data from **IPL Seasons 11 to 12** ie: (2018 to 2019)"
      ],
      "metadata": {
        "id": "152c4R1AQsE1"
      }
    },
    {
      "cell_type": "code",
      "source": [
        "def predict_score(batting_team='Chennai Super Kings', bowling_team='Mumbai Indians', overs=5.1, runs=50, wickets=0, runs_in_prev_5=50, wickets_in_prev_5=0):\n",
        "  temp_array = list()\n",
        "\n",
        "  # Batting Team\n",
        "  if batting_team == 'Chennai Super Kings':\n",
        "    temp_array = temp_array + [1,0,0,0,0,0,0,0]\n",
        "  elif batting_team == 'Delhi Daredevils':\n",
        "    temp_array = temp_array + [0,1,0,0,0,0,0,0]\n",
        "  elif batting_team == 'Kings XI Punjab':\n",
        "    temp_array = temp_array + [0,0,1,0,0,0,0,0]\n",
        "  elif batting_team == 'Kolkata Knight Riders':\n",
        "    temp_array = temp_array + [0,0,0,1,0,0,0,0]\n",
        "  elif batting_team == 'Mumbai Indians':\n",
        "    temp_array = temp_array + [0,0,0,0,1,0,0,0]\n",
        "  elif batting_team == 'Rajasthan Royals':\n",
        "    temp_array = temp_array + [0,0,0,0,0,1,0,0]\n",
        "  elif batting_team == 'Royal Challengers Bangalore':\n",
        "    temp_array = temp_array + [0,0,0,0,0,0,1,0]\n",
        "  elif batting_team == 'Sunrisers Hyderabad':\n",
        "    temp_array = temp_array + [0,0,0,0,0,0,0,1]\n",
        "\n",
        "  # Bowling Team\n",
        "  if bowling_team == 'Chennai Super Kings':\n",
        "    temp_array = temp_array + [1,0,0,0,0,0,0,0]\n",
        "  elif bowling_team == 'Delhi Daredevils':\n",
        "    temp_array = temp_array + [0,1,0,0,0,0,0,0]\n",
        "  elif bowling_team == 'Kings XI Punjab':\n",
        "    temp_array = temp_array + [0,0,1,0,0,0,0,0]\n",
        "  elif bowling_team == 'Kolkata Knight Riders':\n",
        "    temp_array = temp_array + [0,0,0,1,0,0,0,0]\n",
        "  elif bowling_team == 'Mumbai Indians':\n",
        "    temp_array = temp_array + [0,0,0,0,1,0,0,0]\n",
        "  elif bowling_team == 'Rajasthan Royals':\n",
        "    temp_array = temp_array + [0,0,0,0,0,1,0,0]\n",
        "  elif bowling_team == 'Royal Challengers Bangalore':\n",
        "    temp_array = temp_array + [0,0,0,0,0,0,1,0]\n",
        "  elif bowling_team == 'Sunrisers Hyderabad':\n",
        "    temp_array = temp_array + [0,0,0,0,0,0,0,1]\n",
        "\n",
        "  # Overs, Runs, Wickets, Runs_in_prev_5, Wickets_in_prev_5\n",
        "  temp_array = temp_array + [overs, runs, wickets, runs_in_prev_5, wickets_in_prev_5]\n",
        "\n",
        "  # Converting into numpy array\n",
        "  temp_array = np.array([temp_array])\n",
        "  # Prediction\n",
        "  return int(linear_regressor.predict(temp_array)[0])"
      ],
      "metadata": {
        "execution": {
          "iopub.status.busy": "2021-08-04T14:10:08.709550Z",
          "iopub.execute_input": "2021-08-04T14:10:08.710171Z",
          "iopub.status.idle": "2021-08-04T14:10:08.736375Z",
          "shell.execute_reply.started": "2021-08-04T14:10:08.710135Z",
          "shell.execute_reply": "2021-08-04T14:10:08.734728Z"
        },
        "trusted": true,
        "id": "Eo79uV_SQsE1"
      },
      "execution_count": 35,
      "outputs": []
    },
    {
      "cell_type": "markdown",
      "source": [
        "***Prediction 1*** </br>\n",
        "• Date: 16th April 2018</br>\n",
        "• IPL : Season 11</br>\n",
        "• Match number: 13</br>\n",
        "• Teams: Kolkata Knight Riders vs. Delhi Daredevils</br>\n",
        "1. • First Innings final score: 200/9</br>"
      ],
      "metadata": {
        "id": "eb7C8lcZQsE1"
      }
    },
    {
      "cell_type": "code",
      "source": [
        "final_score = predict_score(\n",
        "    batting_team='Kolkata Knight Riders',\n",
        "    bowling_team='Delhi Daredevils',\n",
        "    overs=6.2,\n",
        "    runs=95,\n",
        "    wickets=2,\n",
        "    runs_in_prev_5=60,\n",
        "    wickets_in_prev_5=1)\n",
        "print(\"The final predicted score (range): {} to {}\".format(final_score-10, final_score+5))"
      ],
      "metadata": {
        "execution": {
          "iopub.status.busy": "2021-08-04T14:10:08.738586Z",
          "iopub.execute_input": "2021-08-04T14:10:08.739622Z",
          "iopub.status.idle": "2021-08-04T14:10:08.753397Z",
          "shell.execute_reply.started": "2021-08-04T14:10:08.739571Z",
          "shell.execute_reply": "2021-08-04T14:10:08.752255Z"
        },
        "trusted": true,
        "id": "ISmwK-cOQsE1",
        "outputId": "8184c5bb-833c-4d86-fce3-79dff2a161dd",
        "colab": {
          "base_uri": "https://localhost:8080/"
        }
      },
      "execution_count": 36,
      "outputs": [
        {
          "output_type": "stream",
          "name": "stdout",
          "text": [
            "The final predicted score (range): 193 to 208\n"
          ]
        }
      ]
    },
    {
      "cell_type": "markdown",
      "source": [
        "***Prediction 2***</br>\n",
        "• Date: 30th March 2019</br>\n",
        "• IPL : Season 12</br>\n",
        "• Match number: 9</br>\n",
        "• Teams: Mumbai Indians vs. Kings XI Punjab</br>\n",
        "• First Innings final score: 176/7</br>"
      ],
      "metadata": {
        "id": "BIy_OIT6QsE2"
      }
    },
    {
      "cell_type": "code",
      "source": [
        "final_score = predict_score(\n",
        "    batting_team='Mumbai Indians',\n",
        "    bowling_team='Kings XI Punjab',\n",
        "    overs=12.3,\n",
        "    runs=113,\n",
        "    wickets=2,\n",
        "    runs_in_prev_5=55,\n",
        "    wickets_in_prev_5=0)\n",
        "print(\"The final predicted score (range): {} to {}\".format(final_score-10, final_score+5))"
      ],
      "metadata": {
        "execution": {
          "iopub.status.busy": "2021-08-04T14:10:08.755292Z",
          "iopub.execute_input": "2021-08-04T14:10:08.756264Z",
          "iopub.status.idle": "2021-08-04T14:10:08.769292Z",
          "shell.execute_reply.started": "2021-08-04T14:10:08.756182Z",
          "shell.execute_reply": "2021-08-04T14:10:08.767686Z"
        },
        "trusted": true,
        "id": "Z6pPDm6pQsE2",
        "outputId": "372aea41-851c-4e3d-bf54-4453403a5b44",
        "colab": {
          "base_uri": "https://localhost:8080/"
        }
      },
      "execution_count": 37,
      "outputs": [
        {
          "output_type": "stream",
          "name": "stdout",
          "text": [
            "The final predicted score (range): 179 to 194\n"
          ]
        }
      ]
    },
    {
      "cell_type": "markdown",
      "source": [
        "***Prediction 3*** </br>\n",
        "• Date: 10th May 2019<br/>\n",
        "• IPL : Season 12<br/>\n",
        "• Match number: 59 (Eliminator)<br/>\n",
        "• Teams: Delhi Daredevils vs. Chennai Super Kings<br/>\n",
        "• First Innings final score: 147/9"
      ],
      "metadata": {
        "id": "OujYQqFQQsE2"
      }
    },
    {
      "cell_type": "code",
      "source": [
        "final_score = predict_score(\n",
        "    batting_team='Delhi Daredevils',\n",
        "    bowling_team='Chennai Super Kings',\n",
        "    overs=10.2,\n",
        "    runs=68,\n",
        "    wickets=3,\n",
        "    runs_in_prev_5=29,\n",
        "    wickets_in_prev_5=1)\n",
        "print(\"The final predicted score (range): {} to {}\".format(final_score-10, final_score+5))"
      ],
      "metadata": {
        "execution": {
          "iopub.status.busy": "2021-08-04T14:10:08.771421Z",
          "iopub.execute_input": "2021-08-04T14:10:08.772141Z",
          "iopub.status.idle": "2021-08-04T14:10:08.782261Z",
          "shell.execute_reply.started": "2021-08-04T14:10:08.772092Z",
          "shell.execute_reply": "2021-08-04T14:10:08.780849Z"
        },
        "trusted": true,
        "id": "OR2iGmtCQsE2",
        "outputId": "d31a9f17-b779-4a33-d7b3-63e27e4cb4e5",
        "colab": {
          "base_uri": "https://localhost:8080/"
        }
      },
      "execution_count": 38,
      "outputs": [
        {
          "output_type": "stream",
          "name": "stdout",
          "text": [
            "The final predicted score (range): 137 to 152\n"
          ]
        }
      ]
    }
  ]
}